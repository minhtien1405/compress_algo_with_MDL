{
  "nbformat": 4,
  "nbformat_minor": 0,
  "metadata": {
    "colab": {
      "name": "Tien's Thesis - MDL.ipynb",
      "provenance": [],
      "collapsed_sections": [],
      "include_colab_link": true
    },
    "kernelspec": {
      "display_name": "Python 3",
      "name": "python3"
    }
  },
  "cells": [
    {
      "cell_type": "markdown",
      "metadata": {
        "id": "view-in-github",
        "colab_type": "text"
      },
      "source": [
        "<a href=\"https://colab.research.google.com/github/minhtien1405/compress_algo_with_MDL/blob/main/Tien's_Thesis_MDL.ipynb\" target=\"_parent\"><img src=\"https://colab.research.google.com/assets/colab-badge.svg\" alt=\"Open In Colab\"/></a>"
      ]
    },
    {
      "cell_type": "markdown",
      "metadata": {
        "id": "gPRiMyHqJPwO"
      },
      "source": [
        "Student name: **Hoang Le Minh Tien**\n",
        "\n",
        "Project: **Minimum Description Length Induction of statistical structure in text: text compression and comparison**\n",
        "\n",
        "Supervisor: **Dr.Peter Foldiak**\n",
        "\n",
        "Budapest, 2021"
      ]
    },
    {
      "cell_type": "code",
      "metadata": {
        "colab": {
          "base_uri": "https://localhost:8080/"
        },
        "id": "7TKeq9AcZYu8",
        "outputId": "221b23c1-0b51-439c-c713-1b06269a95ce"
      },
      "source": [
        "!pip install bitarray\n",
        "!pip install pdfplumber"
      ],
      "execution_count": null,
      "outputs": [
        {
          "output_type": "stream",
          "text": [
            "Collecting bitarray\n",
            "\u001b[?25l  Downloading https://files.pythonhosted.org/packages/b1/98/2bb5f77098a3c8f068c2415ad1532ec9df65a019d0604b4d174541382136/bitarray-2.1.0.tar.gz (71kB)\n",
            "\r\u001b[K     |████▋                           | 10kB 11.2MB/s eta 0:00:01\r\u001b[K     |█████████▏                      | 20kB 15.3MB/s eta 0:00:01\r\u001b[K     |█████████████▉                  | 30kB 11.4MB/s eta 0:00:01\r\u001b[K     |██████████████████▍             | 40kB 9.6MB/s eta 0:00:01\r\u001b[K     |███████████████████████         | 51kB 5.6MB/s eta 0:00:01\r\u001b[K     |███████████████████████████▋    | 61kB 5.8MB/s eta 0:00:01\r\u001b[K     |████████████████████████████████| 71kB 3.4MB/s \n",
            "\u001b[?25hBuilding wheels for collected packages: bitarray\n",
            "  Building wheel for bitarray (setup.py) ... \u001b[?25l\u001b[?25hdone\n",
            "  Created wheel for bitarray: filename=bitarray-2.1.0-cp37-cp37m-linux_x86_64.whl size=147704 sha256=6951a582ea14fbeb7c431759bc427a535f21d1a12a6b32bf386fcf0da35c5fb5\n",
            "  Stored in directory: /root/.cache/pip/wheels/35/50/3a/d5c4da0c9ab92707530efe6da2f908c89946c16c1da918b503\n",
            "Successfully built bitarray\n",
            "Installing collected packages: bitarray\n",
            "Successfully installed bitarray-2.1.0\n",
            "Collecting pdfplumber\n",
            "\u001b[?25l  Downloading https://files.pythonhosted.org/packages/9d/30/528bba4a8a2dde7b7e89475a1f1d7b3ed342073a76b4e7248cdd8393f058/pdfplumber-0.5.28.tar.gz (45kB)\n",
            "\u001b[K     |████████████████████████████████| 51kB 2.7MB/s \n",
            "\u001b[?25hCollecting pdfminer.six==20200517\n",
            "\u001b[?25l  Downloading https://files.pythonhosted.org/packages/b0/c0/ef1c8758bbd86edb10b5443700aac97d0ba27a9ca2e7696db8cd1fdbd5a8/pdfminer.six-20200517-py3-none-any.whl (5.6MB)\n",
            "\u001b[K     |████████████████████████████████| 5.6MB 7.4MB/s \n",
            "\u001b[?25hRequirement already satisfied: Pillow>=7.0.0 in /usr/local/lib/python3.7/dist-packages (from pdfplumber) (7.1.2)\n",
            "Collecting Wand\n",
            "\u001b[?25l  Downloading https://files.pythonhosted.org/packages/d7/f6/05f043c099639b9017b7244791048a4d146dfea45b41a199aed373246d50/Wand-0.6.6-py2.py3-none-any.whl (138kB)\n",
            "\u001b[K     |████████████████████████████████| 143kB 41.3MB/s \n",
            "\u001b[?25hCollecting pycryptodome\n",
            "\u001b[?25l  Downloading https://files.pythonhosted.org/packages/ad/16/9627ab0493894a11c68e46000dbcc82f578c8ff06bc2980dcd016aea9bd3/pycryptodome-3.10.1-cp35-abi3-manylinux2010_x86_64.whl (1.9MB)\n",
            "\u001b[K     |████████████████████████████████| 1.9MB 43.9MB/s \n",
            "\u001b[?25hRequirement already satisfied: chardet; python_version > \"3.0\" in /usr/local/lib/python3.7/dist-packages (from pdfminer.six==20200517->pdfplumber) (3.0.4)\n",
            "Requirement already satisfied: sortedcontainers in /usr/local/lib/python3.7/dist-packages (from pdfminer.six==20200517->pdfplumber) (2.3.0)\n",
            "Building wheels for collected packages: pdfplumber\n",
            "  Building wheel for pdfplumber (setup.py) ... \u001b[?25l\u001b[?25hdone\n",
            "  Created wheel for pdfplumber: filename=pdfplumber-0.5.28-cp37-none-any.whl size=32222 sha256=21cd50b5b726acd3648349a7497ce58c266fc60353bb8e4908c5ce46085d5ecd\n",
            "  Stored in directory: /root/.cache/pip/wheels/5a/9b/3d/37e37d93650be964fdd2a9babf174214fec8a0f4d222d474ab\n",
            "Successfully built pdfplumber\n",
            "Installing collected packages: pycryptodome, pdfminer.six, Wand, pdfplumber\n",
            "Successfully installed Wand-0.6.6 pdfminer.six-20200517 pdfplumber-0.5.28 pycryptodome-3.10.1\n"
          ],
          "name": "stdout"
        }
      ]
    },
    {
      "cell_type": "code",
      "metadata": {
        "id": "VYFLkSi8dvfo"
      },
      "source": [
        "from collections import Counter\n",
        "import math\n",
        "import numpy as np\n",
        "from tqdm import tqdm\n",
        "import copy\n",
        "import sys\n",
        "from scipy import sparse\n",
        "from bitarray import bitarray\n",
        "import pickle\n",
        "import time\n",
        "from matplotlib import pyplot as plt\n",
        "from graphviz import Digraph\n",
        "import pdfplumber\n",
        "import re"
      ],
      "execution_count": null,
      "outputs": []
    },
    {
      "cell_type": "code",
      "metadata": {
        "colab": {
          "base_uri": "https://localhost:8080/"
        },
        "id": "bEb7fg1fdxlS",
        "outputId": "c67ba688-aef9-4d0c-b680-3ba0fedf2cf1"
      },
      "source": [
        "import nltk\n",
        "nltk.download('gutenberg')"
      ],
      "execution_count": null,
      "outputs": [
        {
          "output_type": "stream",
          "text": [
            "[nltk_data] Downloading package gutenberg to /root/nltk_data...\n",
            "[nltk_data]   Unzipping corpora/gutenberg.zip.\n"
          ],
          "name": "stdout"
        },
        {
          "output_type": "execute_result",
          "data": {
            "text/plain": [
              "True"
            ]
          },
          "metadata": {
            "tags": []
          },
          "execution_count": 3
        }
      ]
    },
    {
      "cell_type": "code",
      "metadata": {
        "id": "oODVQaoWAFaX"
      },
      "source": [
        "def clean_text(text):\n",
        "    \"\"\"\n",
        "        text: a string\n",
        "        return: modified initial string\n",
        "    \"\"\"\n",
        "    text = re.sub(r'(\\n\\s*)+\\n+', '\\n\\n', text)\n",
        "    return text"
      ],
      "execution_count": null,
      "outputs": []
    },
    {
      "cell_type": "code",
      "metadata": {
        "id": "TLU-C-VVd25F"
      },
      "source": [
        "text = nltk.corpus.gutenberg.raw('austen-emma.txt')"
      ],
      "execution_count": null,
      "outputs": []
    },
    {
      "cell_type": "code",
      "metadata": {
        "colab": {
          "base_uri": "https://localhost:8080/"
        },
        "id": "n5iEWG-hbOmt",
        "outputId": "524a5217-26e3-428c-f023-c6c0a8ba60d6"
      },
      "source": [
        "text_length = len(text)\n",
        "text_length"
      ],
      "execution_count": null,
      "outputs": [
        {
          "output_type": "execute_result",
          "data": {
            "text/plain": [
              "887071"
            ]
          },
          "metadata": {
            "tags": []
          },
          "execution_count": 7
        }
      ]
    },
    {
      "cell_type": "code",
      "metadata": {
        "id": "loYG4QtOpQGS"
      },
      "source": [
        "voc_count = Counter(text)\n",
        "voc_dl = dict()   # - log p of each character\n",
        "for key in voc_count:\n",
        "    voc_dl[key] = -math.log(voc_count[key]/text_length,2)"
      ],
      "execution_count": null,
      "outputs": []
    },
    {
      "cell_type": "code",
      "metadata": {
        "id": "1SdVAUKze__C"
      },
      "source": [
        "# A Huffman Tree Node\n",
        "class HuffmanNode:\n",
        "    def __init__(self, freq, symbol, left=None, right=None):\n",
        "        # frequency of symbol\n",
        "        self.freq = freq\n",
        " \n",
        "        # symbol name (charecter)\n",
        "        self.symbol = symbol\n",
        " \n",
        "        # node left of current node\n",
        "        self.left = left\n",
        " \n",
        "        # node right of current node\n",
        "        self.right = right\n",
        " \n",
        "        # tree direction (0/1)\n",
        "        self.huff = bitarray()\n",
        "\n",
        "def convert_tree_to_dict(node, bitarray_dictionary, val=bitarray()):\n",
        "    # huffman code for current node\n",
        "    newVal = val + node.huff\n",
        "\n",
        "    # if node is not an edge node\n",
        "    # then traverse inside it\n",
        "    if(node.left):\n",
        "        convert_tree_to_dict(node.left,  bitarray_dictionary, newVal)\n",
        "    if(node.right):\n",
        "        convert_tree_to_dict(node.right, bitarray_dictionary,  newVal)\n",
        "\n",
        "        # if node is edge node then\n",
        "        # display its huffman code\n",
        "    if(not node.left and not node.right):\n",
        "        bitarray_dictionary[node.symbol]= newVal\n",
        "    return bitarray_dictionary\n",
        "\n",
        "def huffman_code_of_dict(vocab, length):\n",
        "    trie_freq_dict = {k:(v.count_all_text/length) for k,v in vocab.vocab_dict_address.items() if (v.is_end == True)}\n",
        "    \n",
        "    for key, value in trie_freq_dict.items():\n",
        "        if value ==0:\n",
        "            trie_freq_dict[key] = 10**-7\n",
        "\n",
        "    print(f'Dictionary len {len(trie_freq_dict)}')\n",
        "    # print(trie_freq_dict)\n",
        "\n",
        "    nodes = []\n",
        "    for key, freq in trie_freq_dict.items():\n",
        "        nodes.append(HuffmanNode(freq/length, key))\n",
        "\n",
        "    #Initialization sort\n",
        "    nodes = sorted(nodes, key=lambda x: x.freq)\n",
        "    while (len(nodes) > 1):\n",
        "        left = nodes[0]\n",
        "        right = nodes[1] \n",
        "        \n",
        "        # assign directional value to these nodes\n",
        "        left.huff = bitarray('0')\n",
        "        right.huff = bitarray('1')\n",
        "    \n",
        "        # combine the 2 smallest nodes to create\n",
        "        # new node as their parent\n",
        "        # print(left.symbol+right.symbol)\n",
        "        new_freq = left.freq+right.freq\n",
        "        newNode = HuffmanNode(left.freq+right.freq, left.symbol+right.symbol, left, right)\n",
        "    \n",
        "        # remove the 2 nodes and add their\n",
        "        # parent as new node among others\n",
        "\n",
        "        nodes.remove(left)\n",
        "        nodes.remove(right)\n",
        "\n",
        "        #Adding new updated node to the right position\n",
        "        #Adding new updated node to the right position\n",
        "        if len(nodes) >1:\n",
        "          for i in range(1,len(nodes)):\n",
        "            if (nodes[0].freq > new_freq):\n",
        "              nodes.insert(0, newNode)\n",
        "              break\n",
        "            elif (nodes[i-1].freq <= new_freq) and (new_freq<=nodes[i].freq):\n",
        "              nodes.insert(i, newNode)\n",
        "              break\n",
        "            elif (i==len(nodes)-1) and new_freq>=nodes[i].freq:\n",
        "              # print('Append to the end')\n",
        "              nodes.append(newNode)\n",
        "        else:\n",
        "          # print(f'Last case {new_freq} ')\n",
        "          try:\n",
        "            if new_freq<=nodes[0].freq:\n",
        "              nodes.insert(0, newNode)\n",
        "              break\n",
        "            else:\n",
        "              nodes.append(newNode)\n",
        "          except:\n",
        "            nodes.append(newNode)\n",
        "    return nodes"
      ],
      "execution_count": null,
      "outputs": []
    },
    {
      "cell_type": "code",
      "metadata": {
        "id": "n4QPsL7IYrAC"
      },
      "source": [
        "class TrieNode:\n",
        "    \"\"\"A node in the trie structure\"\"\"\n",
        "\n",
        "    def __init__(self, char, seq, left_seg = None, right_seg = None):\n",
        "        # the character stored in this node\n",
        "        self.char = char\n",
        "        # whether this can be the end of a word\n",
        "        self.is_end = False\n",
        "        # a counter indicating how many times a word is inserted\n",
        "        # (if this node's is_end is True)\n",
        "        self.seq = seq   # number in the sequence\n",
        "        # a dictionary of child nodes\n",
        "        # keys are characters, values are nodes\n",
        "        self.child = {}\n",
        "        self.count = 0                    #segmentation count in each batch of the text, will be used to calculate the dynamic description length\n",
        "        self.count_all_text = 0\n",
        "        self.dl = math.inf\n",
        "        self.dynamic_dl = math.inf\n",
        "        self.calibrated_dl = math.inf\n",
        "        self.index = 0\n",
        "\n",
        "        # This is used to backtrack to prun the parrent node.\n",
        "        self.left_seg = left_seg\n",
        "        self.right_seg = right_seg\n",
        "        \n",
        "class Trie(object):\n",
        "    \"\"\"The trie object\"\"\"\n",
        "\n",
        "    def __init__(self):\n",
        "        \"\"\"\n",
        "        The trie has at least the root node.\n",
        "        The root node does not store any character\n",
        "        \"\"\"\n",
        "        self.root = TrieNode(\"\", 0)\n",
        "        self.current_index = 0\n",
        "        self.vocab_dict ={}\n",
        "        self.vocab_dict_address = {}\n",
        "        self.general_count = 0 #This variable is used to calculate the probability\n",
        "        self.code_length = 0\n",
        "        self.code_length_debug = 0\n",
        "        self.bitarray_dict = {}\n",
        "    \n",
        "    def bitarray_dict_setter(self, bitarray_dict):\n",
        "        self.bitarray_dict = bitarray_dict\n",
        "    \n",
        "    def insert(self, word, dl, left_seg = None, right_seg = None):\n",
        "        \"\"\"Insert a word into the trie\"\"\"\n",
        "        node = self.root\n",
        "        # Loop through each character in the word\n",
        "        # Check if there is no child containing the character, create a new child for the current node\n",
        "        for i, char in enumerate(word):\n",
        "            if char in node.child:\n",
        "                node = node.child[char]\n",
        "            else:\n",
        "                \n",
        "                # If a character is not found,\n",
        "                # create a new node in the trie\n",
        "                new_node = TrieNode(char,i)\n",
        "                new_node.index = self.current_index\n",
        "                node.child[char] = new_node\n",
        "                node = new_node\n",
        "               \n",
        "        node.dl = dl\n",
        "        node.dynamic_dl = dl    # Overwriten dynamic_dl when insert\n",
        "        node.calibrated_dl = dl \n",
        "        # Mark the end of a word\n",
        "        node.is_end = True\n",
        "        self.vocab_dict[word[:i+1]] = self.current_index\n",
        "        self.vocab_dict_address[word[:i+1]] = node\n",
        "        self.current_index += 1\n",
        "        \n",
        "        node.left_seg = left_seg\n",
        "        node.right_seg = right_seg\n",
        "\n",
        "    def reset_count_all_text(self):\n",
        "        \"\"\"\n",
        "            Count all text variable is used to calculate the final description length as well us the length in bit of the dictionary.\n",
        "            This count is increased when we call mdl_segment_with_segmentation(). Then all the leaf should be set to 0 before we count it again.\n",
        "        \"\"\"\n",
        "        for key, item in self.vocab_dict_address.items():\n",
        "            self.vocab_dict_address[key].count_all_text = 0 \n",
        "\n",
        "    def reset_count(self):\n",
        "        \"\"\"\n",
        "            \n",
        "        \"\"\"\n",
        "        for key, item in self.vocab_dict_address.items():\n",
        "            self.vocab_dict_address[key].count = 0 \n",
        "\n",
        "\n",
        "    def calibrate_segm_DL(self, node):\n",
        "        \"\"\"\n",
        "            After finding all segmentations, DL is needed to be calibrated because the DL of longer segmentations are \n",
        "            calculated base on batch size only. This calibration function will calculate DL of all segmentations based\n",
        "            on their probability appeared in all the text.\n",
        "\n",
        "            Using segmentation_prob = node.count_all_text/self.general_count\n",
        "        \"\"\"\n",
        "        if node.is_end:\n",
        "            segmentation_prob = node.count_all_text/self.general_count\n",
        "            if segmentation_prob != 0:\n",
        "                node.calibrated_dl = -math.log(segmentation_prob,2)\n",
        "        for c in node.child:      \n",
        "            self.calibrate_segm_DL(node.child[c])    \n",
        "\n",
        "    def pruning_trie(self, segmentation_list):\n",
        "      \"\"\"\n",
        "          The pruning segmentations will be removed from the vocab_dict, remove unused vocab\n",
        "          \n",
        "          Stage 1:\n",
        "            Based on the cost to add to the dictionary. If it is in the dictionary but rarely used, then it could be remove from the dictionary \n",
        "            to save some space\n",
        "\n",
        "          Stage 2:\n",
        "            Pruning the unused segmentation by checking if any segementation is not in the final segmentation\n",
        "      \"\"\" \n",
        "\n",
        "      #Stage 1:\n",
        "      segmentation_counter = Counter(segmentation_list)\n",
        "      #Sorted by len of segmentation. The aim is to remove the longer segmentation first.\n",
        "      segmentation_counter = dict(sorted(segmentation_counter.items(), key = lambda i: len(i[0]), reverse= True))\n",
        "      vocab_dict_address_temp = self.vocab_dict_address.copy()\n",
        "      for key in segmentation_counter:\n",
        "        #Condition 1:\n",
        "        number_of_segmentation_occured = segmentation_counter[key]\n",
        "        current_DL = number_of_segmentation_occured * self.vocab_dict_address[key].calibrated_dl\n",
        "        if current_DL < 53.62849515 * 8 * 1.2:\n",
        "          if (self.vocab_dict_address[key].left_seg != None) and (self.vocab_dict_address[key].right_seg != None):\n",
        "              # if (self.vocab_dict_address[key][self.vocab_dict_address[key].left_seg].is_end == True)\n",
        "              try:\n",
        "                  # print(f'Prun -> {key}:{segmentation_counter[key]}')\n",
        "                  self.vocab_dict_address[key].is_end = False\n",
        "                  self.vocab_dict_address[key].dynamic_dl = math.inf\n",
        "                  del self.vocab_dict[key]\n",
        "                  del self.vocab_dict_address[key]\n",
        "              except:\n",
        "                print('One of those has already pruned')\n",
        "\n",
        "      ## Stage 2:\n",
        "      used_seg = set(segmentation_list)\n",
        "      unused_semg_set = set(self.vocab_dict.keys()) - used_seg\n",
        "      \n",
        "      pruned_count = 0\n",
        "      for key in unused_semg_set:\n",
        "          if key in self.vocab_dict_address:\n",
        "              try:\n",
        "                  if len(key) != 1:\n",
        "                      self.vocab_dict_address[key].is_end = False\n",
        "                      del self.vocab_dict_address[key]\n",
        "                      del self.vocab_dict[key]\n",
        "          \n",
        "              except:\n",
        "                  print(f'Can not remove {key} from the trie dictionary')\n",
        "          else:\n",
        "              pruned_count +=1\n",
        "      print(f'Overlaping prunded = {pruned_count}')\n",
        "\n",
        "    def trie_length_in_bit(self, node):\n",
        "      \"\"\" Using depth first search to find all the probabilities to calculate the encode length for the dictionary\"\"\"\n",
        "    \n",
        "      if node.is_end:\n",
        "          segmentation_prob = node.count_all_text/self.general_count\n",
        "          if segmentation_prob != 0:\n",
        "            self.code_length -= segmentation_prob * math.log(segmentation_prob,2)\n",
        "            self.code_length_debug += 1\n",
        "\n",
        "      for c in node.child:      \n",
        "          self.trie_length_in_bit(node.child[c])"
      ],
      "execution_count": null,
      "outputs": []
    },
    {
      "cell_type": "code",
      "metadata": {
        "id": "CuLYsqD_MNS2"
      },
      "source": [
        "def mdl_segment(text, vocab, DL_type = 'dynamic', check_segmentation= False):\n",
        "    \"\"\"\n",
        "        Finding shorter description length, used to run for all text\n",
        "    \"\"\"\n",
        "    text_length = len(text)\n",
        "    min_segm = np.full(text_length+1, np.inf)\n",
        "    min_segm[0] = 0.\n",
        "    back_pointers = np.empty(text_length+1, dtype=np.int)\n",
        "    pointers =  set()    # pointers to possible segments\n",
        "    vocab.reset_count_all_text()        #Reset count_all_text variables to 0\n",
        "    segmentation_list = []\n",
        "    hist_text_segmentation =[]\n",
        "\n",
        "    if check_segmentation == True:\n",
        "        if len(text) <100 and text in vocab.vocab_dict.keys():\n",
        "            vocab.vocab_dict_address[text].is_end = False\n",
        "        else:\n",
        "            print(f'Could not find \"{text}\" in the vocabulary')\n",
        "            return min_segm, back_pointers, segmentation_list, hist_text_segmentation\n",
        "\n",
        "    for i, char in enumerate(text):    # for each character in the text\n",
        "        pointers.add(vocab.root)    # start a new pointer at this position\n",
        "        for point in pointers.copy():    # for each pointer (potential segment)\n",
        "            pointers.remove(point)\n",
        "            if char in point.child:\n",
        "                p = point.child[char]\n",
        "                pointers.add(p)\n",
        "                if p.is_end == True:                               \n",
        "                    if DL_type == 'dynamic':\n",
        "                        # Using Dynamic description length to calculate the MDL\n",
        "                        potential_new_minimum = p.dynamic_dl + min_segm[i - p.seq]   \n",
        "                    else:\n",
        "                        #Using Calibrated DL to calculate MDL\n",
        "                        potential_new_minimum = p.calibrated_dl + min_segm[i - p.seq]   \n",
        "                    if min_segm[i+1] > potential_new_minimum:\n",
        "                        min_segm[i+1] = potential_new_minimum\n",
        "                        back_pointers[i+1] = i - p.seq    # index of previous segment\n",
        "\n",
        "                        if check_segmentation == True: \n",
        "                            hist_text_segmentation.append(text[i-p.seq:i+1])\n",
        "                            if char not in hist_text_segmentation:\n",
        "                                hist_text_segmentation.append(char)   \n",
        "                            # print(text[i-p.seq:i+1])\n",
        "    \"\"\"\n",
        "    Return the segmentation by loop from the back of the text\n",
        "    \"\"\"\n",
        "\n",
        "    back_pointers[0] = 0\n",
        "\n",
        "    j = text_length\n",
        "    while j>0:\n",
        "        segmentation_list.append(text[back_pointers[j]:j])  # Insert to the beginning of the list\n",
        "        j = back_pointers[j]\n",
        "    segmentation_list.reverse()\n",
        "\n",
        "    segmentation_count = Counter(segmentation_list)\n",
        "    # {' ': 27, 'e': 19, 'o': 13, 's': 12, 'a': 10, 'n': 10, 'm': 9, 't': 9, '\\n': 9, 'i': 8, 'h': 7, 'd': 6, ',': 5, 'E': 4, 'b': 4}\n",
        "\n",
        "    if check_segmentation == False:\n",
        "        for key in segmentation_count:\n",
        "            vocab.vocab_dict_address[key].count_all_text = segmentation_count[key]\n",
        "            vocab.vocab_dict_address[key].calibrated_dl = -math.log(vocab.vocab_dict_address[key].count_all_text/len(segmentation_list),2)   ## devide the segmentation_list instead of the text length\n",
        "        \n",
        "        vocab.general_count = len(segmentation_list)\n",
        "\n",
        "    if check_segmentation == True:\n",
        "        vocab.vocab_dict_address[text].is_end = True\n",
        "        print(hist_text_segmentation)\n",
        "        return min_segm, back_pointers, segmentation_list, hist_text_segmentation\n",
        "\n",
        "    return min_segm, back_pointers, segmentation_list"
      ],
      "execution_count": null,
      "outputs": []
    },
    {
      "cell_type": "code",
      "metadata": {
        "id": "TfNtmxHSFI6i"
      },
      "source": [
        "def mdl_segment_upgrade_dictionary(text, vocab, number_of_batches = 4, demo_mode = 0):\n",
        "    \"\"\"\n",
        "        Finding shorter description length in each batches, at the end of each run, udpate the dictionary\n",
        "        \n",
        "        Demo mode:\n",
        "            0: Normal run\n",
        "            1: Showing how many pointer at each character that the algorithm is finding for\n",
        "            2: Exporting demo data to draw vertical MDL graph\n",
        "    \"\"\"\n",
        "    avg_append_dictionary_cost = 53.62849515 * 8 * 0.8\n",
        "    text_length = len(text)\n",
        "    min_segm = np.full(text_length+1, np.inf)\n",
        "    min_segm[0] = 0.\n",
        "    back_pointers = np.empty(text_length+1, dtype=np.int)\n",
        "    \n",
        "    current_mat_index = [0]\n",
        "    current_mat_val = [0]\n",
        "    bisegm_index = []\n",
        "    bisegm_val = []\n",
        "    pointers =  set()    # pointers to possible segments   \n",
        "    demo_data = []\n",
        "\n",
        "  \n",
        "    for i, char in enumerate(text):    # for each character in the text\n",
        "    ###########################################################################################################\n",
        "        if demo_mode == 1:\n",
        "            print(f'\\033[91m[{len(pointers)}]',end='')\n",
        "            print(f'\\033[0m{char}',end='')\n",
        "    #########################################################################################################\n",
        "        pointers.add(vocab.root)    # start a new pointer at this position\n",
        "\n",
        "        if demo_mode != 2:\n",
        "            for point in pointers.copy():    # for each pointer (potential segment)\n",
        "                pointers.remove(point)\n",
        "                if char in point.child:\n",
        "                    p = point.child[char]\n",
        "                    pointers.add(p)\n",
        "                    if p.is_end == True:\n",
        "                        potential_new_minimum = p.dl + min_segm[i - p.seq]   # DEBUG\n",
        "                        if min_segm[i+1] > potential_new_minimum:\n",
        "                            min_segm[i+1] = potential_new_minimum\n",
        "                            back_pointers[i+1] = i - p.seq    # index of previous segment\n",
        "        else:\n",
        "            # Get demo_data for demo_mode \n",
        "            for point in pointers.copy():    # for each pointer (potential segment)\n",
        "                pointers.remove(point)\n",
        "                if char in point.child:\n",
        "                    p = point.child[char]\n",
        "                    pointers.add(p)\n",
        "                    if p.is_end:                                      \n",
        "                        potential_new_minimum = p.dl + min_segm[i - p.seq]   # DEBUG                          \n",
        "                        seq_len = 0\n",
        "                        if min_segm[i+1] > potential_new_minimum:\n",
        "                            min_segm[i+1] = potential_new_minimum\n",
        "                            back_pointers[i+1] = i - p.seq    # index of previous segment\n",
        "                            seq_len = p.seq\n",
        "                        segment = (i,i-p.seq,seq_len,text[i-p.seq:i+1],p.dl,potential_new_minimum)\n",
        "                        demo_data.append(segment)\n",
        "    \"\"\"\n",
        "    Return the segmentation by loop from the back of the text\n",
        "    \"\"\"\n",
        "    back_pointers[0] = 0\n",
        "    segmentation_list = []\n",
        "    j = text_length\n",
        "    while j>0:\n",
        "        segmentation_list.append(text[back_pointers[j]:j])  # Insert to the end of the list\n",
        "        j = back_pointers[j]\n",
        "    segmentation_list.reverse()\n",
        "\n",
        "    segmentation_length = len(segmentation_list)\n",
        "    segmentation_count = Counter(segmentation_list)\n",
        "    vocab.general_count += segmentation_length\n",
        "        \n",
        "    for key in segmentation_count:\n",
        "      if (vocab.vocab_dict_address[key].is_end == True):\n",
        "          vocab.vocab_dict_address[key].count += segmentation_count[key]\n",
        "          vocab.vocab_dict_address[key].dynamic_dl = -math.log(vocab.vocab_dict_address[key].count/vocab.general_count,2)\n",
        "\n",
        "\n",
        "    if demo_mode == 0:\n",
        "        \"\"\"\n",
        "            Looking for new segmentation to update the dictionary\n",
        "        \"\"\"\n",
        "        #Using Sparse matrix\n",
        "        #Init\n",
        "        loc_current_segm = vocab.vocab_dict[segmentation_list[0]]\n",
        "        current_mat_index[0] = loc_current_segm\n",
        "        current_mat_val[0] +=1\n",
        "        \n",
        "        #Creating and adding frequency to the sparse matrix\n",
        "        for i, segm in enumerate(segmentation_list):                                  \n",
        "            try:\n",
        "                # print(f'{segm} ->{segmentation_list[i+1]}')\n",
        "                loc_current_segm = vocab.vocab_dict[segm]\n",
        "                loc_next_segm = vocab.vocab_dict[segmentation_list[i+1]]\n",
        "                loc_prev_seg = vocab.vocab_dict[segmentation_list[i-1]]\n",
        "                \n",
        "                if loc_next_segm not in current_mat_index:                               # [current, ...]\n",
        "                    current_mat_index.append(loc_next_segm)                              # [1  ,   2,...] APPENED THE INDEX OF THAT SEGMENTATION\n",
        "                    current_mat_val.append(0)                                            # [0.5, 0.4,...]\n",
        "\n",
        "                if (loc_current_segm, loc_next_segm) not in bisegm_index:             ### [(current, next),...]\n",
        "                    bisegm_index.append((loc_current_segm, loc_next_segm))            ### [(1,2),(3,4),()     ]\n",
        "                    bisegm_val.append(0)                                              ### [ 0.2,   0.3,       ]\n",
        "\n",
        "                current_mat_val[current_mat_index.index(loc_next_segm)] +=1\n",
        "                bisegm_val[bisegm_index.index((loc_current_segm, loc_next_segm))] +=1\n",
        "                # Row header will be the current segm index, col header will be the next segm index\n",
        "            except:\n",
        "                print('No next segmentation')\n",
        "\n",
        "\n",
        "        vocab_current_segm_prob = np.array(current_mat_val, dtype = np.float16)/segmentation_length\n",
        "        bisegm_prob = np.array(bisegm_val, dtype = np.float16)/segmentation_length\n",
        "\n",
        "        inv_dict={}\n",
        "        inv_dict = {v: k for k, v in vocab.vocab_dict.items()}\n",
        "\n",
        "        ## Adding new segmentations to the trie vocab\n",
        "        updating_indexes = np.where(bisegm_prob > 0)                 # Filter out the combination of segmentation which has prob > thresshold               \n",
        "        for i in updating_indexes[0]:\n",
        "            row, col = bisegm_index[i]\n",
        "            prob_current_segm = vocab_current_segm_prob[current_mat_index.index(row)]\n",
        "            prob_next_segm = vocab_current_segm_prob[current_mat_index.index(col)]\n",
        "            combine_prob = bisegm_prob[bisegm_index.index((row, col))]\n",
        "            \n",
        "            if (prob_current_segm * prob_next_segm < combine_prob):\n",
        "                new_segment = inv_dict[row] + inv_dict[col]\n",
        "                new_segment_DL = -math.log(combine_prob,2)\n",
        "                #4 batches, 1st batch has 100 'th' -> 400 'th in the text\n",
        "                                          #100                                     # DL(t)             #DL(h)        #DL(th)\n",
        "                                  # number of time it appeared               * (DL_[current] + DL_[current+1] - DL_new_segmentation)\n",
        "                number_of_times_new_segm_occured = bisegm_val[bisegm_index.index((row, col))]\n",
        "                reduced_cost_DL = number_of_batches * number_of_times_new_segm_occured * ((-math.log(prob_current_segm,2) -math.log(prob_next_segm,2)) - new_segment_DL)\n",
        "                                      #53 * 8\n",
        "                if reduced_cost_DL > avg_append_dictionary_cost:\n",
        "                    # check and remove first and last space\n",
        "                    if len(new_segment) > 3:\n",
        "                        if new_segment[0] == ' ':\n",
        "                            new_segment = new_segment[1:]\n",
        "                        if new_segment[-1] == ' ':\n",
        "                            new_segment = new_segment[:-1]\n",
        "                    if new_segment not in vocab.vocab_dict.keys():\n",
        "                        vocab.insert(new_segment, new_segment_DL, left_seg =inv_dict[row], right_seg = inv_dict[col])\n",
        "                        # print(f'Add {new_segment}')\n",
        "        print('Update the dictionary!')\n",
        "        print(f'Len of the dictionary: {len(vocab.vocab_dict)}')\n",
        "        print(f'General Number of segmentation Count = {vocab.general_count}')\n",
        "\n",
        "    return min_segm, back_pointers, segmentation_list, demo_data"
      ],
      "execution_count": null,
      "outputs": []
    },
    {
      "cell_type": "markdown",
      "metadata": {
        "id": "JYZ_VPMVcR_m"
      },
      "source": [
        "**Algorithm:**\n",
        "\n",
        "After initialize the new trie, the *find_MDL* will do following steps:\n",
        "1.   Separate the input to *n* batches and loop through each batches:\n",
        "     It will call *mdl_segment_upgrade_dictionary* with thresshold/(2^i).\n",
        "     At the end of each batch, we count the frequency of each segmentation (node.count) and calculating the *dynamic description length* (count up to this batch / length up to this batch). Then, we update the dictionary based on those two conditions:\n",
        "\n",
        "\n",
        "*   P(current_seg)*P(next_seg) < P(combine)\n",
        "*   P(combine) > thresshold\n",
        "\n",
        "\n",
        "\n",
        "2.   At this steps, we have the trie with dynamic DL. I ran the first loop through the text to **segment** with all the word with the new trie dictionary. *mdl_segment_with_segmentation* is called here, *dynamic_DL* is used. This function will increase the *count_all_text* variable, which helps us track the frequency of segmentations in the input text.\n",
        "\n",
        "3.   Given *count_all_text* frequencies on step 2, at this we do as following:\n",
        "\n",
        "\n",
        "*   Calibrate the DL, using *count_all_text* and *full_text_length*, the DL is recalculated and saved to *node.calibrated_dl*\n",
        "*   Pruning the trie node which has 0 count (**we can set some thresshold here to prune**)\n",
        "*   Initialize the Huffman code dictionary (node type -- *huffman_code_of_dict(vocab, length = full_text_length)*), convert it to a dictionary (*convert_tree_to_dict*), and then store it to the trie vocab with *vocab.bitarray_dict_setter(bitarray_dict)*\n",
        "\n",
        "4.   Loop through the input again with *Calibrated_DL*, *pruned trie*, and *bitarray_dict*, the out put will be the DL of the output, encoded output, and the length of the pruned vocab. **MDL** of the compression will be calculated here.\n",
        "\n",
        "\n"
      ]
    },
    {
      "cell_type": "code",
      "metadata": {
        "id": "RahELYM-oYlF"
      },
      "source": [
        "def find_MDL(text, vocab, number_of_loop=1, number_of_batches = 10):\n",
        "  \"\"\"\n",
        "      Main algorithm\n",
        "      Step 1: Reading batches, finding shortest DL at each batch and update the dictionary at the end\n",
        "      Step 2: Running again throuhg the text to count the total number of segmentation to calibrate the DL\n",
        "      Step 3: Calibrating, prunning\n",
        "      Step 4: Rerun with calibrated description length, encode the text with bitarray dictionary\n",
        "  \"\"\"\n",
        "\n",
        "  full_text_length = len(text)\n",
        "  ### Step 1:\n",
        "  for j in range(number_of_loop):\n",
        "    vocab.reset_count()\n",
        "    vocab.general_count = 0\n",
        "    for i in tqdm(range(number_of_batches)):\n",
        "      sub_text = text[i * full_text_length//number_of_batches: (i+1) * full_text_length//number_of_batches]\n",
        "      min_segm, back_pointers, segmentation_list, _ = mdl_segment_upgrade_dictionary(sub_text, vocab, number_of_batches = number_of_batches, demo_mode=0)\n",
        "      del min_segm, back_pointers, segmentation_list\n",
        "    \n",
        "\n",
        "  ### Step 2:\n",
        "  #Using dynamic DL to recompute the segmentation for all the text, check for frequencies of those segmentations in the text\n",
        "  min_seg, back_pointers, segmentation_list = mdl_segment(text, vocab, DL_type = 'dynamic')\n",
        "  print(f'\\n\\nMDL before calibrate: {min_seg[-1:][0]}')\n",
        "  del min_seg, back_pointers \n",
        "\n",
        "  ### Step 3:\n",
        "  #Based on the counted frequencies (node.count_all_text), calibrate the DL and then recompute the minimum DL\n",
        "  vocab.calibrate_segm_DL(vocab.root)\n",
        "  print(f'\\nLength of the vocabulary before pruning: {len(vocab.vocab_dict)}')\n",
        "  vocab.pruning_trie(segmentation_list)\n",
        "  del segmentation_list\n",
        "\n",
        "  ### Step 4:\n",
        "  min_seg, back_pointers, segmentation_list = mdl_segment(text, vocab, DL_type = 'calibrated') \n",
        "\n",
        "  nodes = huffman_code_of_dict(vocab, length = len(segmentation_list))\n",
        "  bitarray_dict = {}\n",
        "  bitarray_dict = convert_tree_to_dict(nodes[0], bitarray_dictionary=bitarray_dict)\n",
        "  vocab.bitarray_dict_setter(bitarray_dict)\n",
        "\n",
        "  encoded_array = bitarray()\n",
        "    \n",
        "  for item in segmentation_list:\n",
        "      encoded_array += vocab.bitarray_dict[item]\n",
        "\n",
        "  print(f'\\nLength of the vocabulary after 1 st pruning: {len(vocab.vocab_dict)}, DL of the text is : {min_seg[-1:][0]}')\n",
        "\n",
        "  # vocab.trie_length_in_bit(vocab.root)\n",
        "  trie_code_length = len(vocab.vocab_dict) * 53.62849515 * 8\n",
        "  print(f'\\n\\nLength in bits of the vocab:{trie_code_length}')\n",
        "\n",
        "  MDL = [min_seg[-1:][0], trie_code_length]\n",
        "  print(f'\\n\\nMDL:{min_seg[-1:][0] + trie_code_length}')\n",
        "\n",
        "  size_bitarray_dict = bitarray_dict.__sizeof__()\n",
        "  size_encoded_array = encoded_array.__sizeof__()\n",
        "  total_size =[size_bitarray_dict,size_encoded_array]\n",
        "\n",
        "  print(f'Total size __sizeof__ { size_bitarray_dict + size_encoded_array } bytes')\n",
        "  print(f'Total size getsizeof { sys.getsizeof(encoded_array) + sys.getsizeof(bitarray_dict) } bytes')\n",
        "\n",
        "  return min_seg, back_pointers, segmentation_list, MDL, trie_code_length, len(vocab.vocab_dict), encoded_array, total_size"
      ],
      "execution_count": null,
      "outputs": []
    },
    {
      "cell_type": "code",
      "metadata": {
        "colab": {
          "base_uri": "https://localhost:8080/"
        },
        "id": "BsQ_Ho80Rafw",
        "outputId": "4d4a17ea-212c-4daa-d7fd-bfafe8befaaa"
      },
      "source": [
        "trie = Trie()\n",
        "for key in voc_dl:\n",
        "    trie.insert(key, voc_dl[key])\n",
        "%prun min_seg_full_text, back_pointers_full_text, segmentation_list_full_text, sum_MDL, trie_code_length, vocab_dict_len, encoded_array, total_size = find_MDL(text, trie,number_of_loop=1, number_of_batches = 10)"
      ],
      "execution_count": null,
      "outputs": [
        {
          "output_type": "stream",
          "text": [
            " 10%|█         | 1/10 [00:01<00:14,  1.60s/it]"
          ],
          "name": "stderr"
        },
        {
          "output_type": "stream",
          "text": [
            "No next segmentation\n",
            "Update the dictionary!\n",
            "Len of the dictionary: 337\n",
            "General Number of segmentation Count = 88707\n",
            "No next segmentation\n"
          ],
          "name": "stdout"
        },
        {
          "output_type": "stream",
          "text": [
            "\r 20%|██        | 2/10 [00:09<00:27,  3.42s/it]"
          ],
          "name": "stderr"
        },
        {
          "output_type": "stream",
          "text": [
            "Update the dictionary!\n",
            "Len of the dictionary: 1155\n",
            "General Number of segmentation Count = 141008\n",
            "No next segmentation\n"
          ],
          "name": "stdout"
        },
        {
          "output_type": "stream",
          "text": [
            "\r 30%|███       | 3/10 [00:26<00:53,  7.59s/it]"
          ],
          "name": "stderr"
        },
        {
          "output_type": "stream",
          "text": [
            "Update the dictionary!\n",
            "Len of the dictionary: 1770\n",
            "General Number of segmentation Count = 178387\n",
            "No next segmentation\n"
          ],
          "name": "stdout"
        },
        {
          "output_type": "stream",
          "text": [
            "\r 40%|████      | 4/10 [00:45<01:05, 10.90s/it]"
          ],
          "name": "stderr"
        },
        {
          "output_type": "stream",
          "text": [
            "Update the dictionary!\n",
            "Len of the dictionary: 2154\n",
            "General Number of segmentation Count = 211827\n",
            "No next segmentation\n"
          ],
          "name": "stdout"
        },
        {
          "output_type": "stream",
          "text": [
            "\r 50%|█████     | 5/10 [01:03<01:05, 13.05s/it]"
          ],
          "name": "stderr"
        },
        {
          "output_type": "stream",
          "text": [
            "Update the dictionary!\n",
            "Len of the dictionary: 2409\n",
            "General Number of segmentation Count = 243261\n",
            "No next segmentation\n"
          ],
          "name": "stdout"
        },
        {
          "output_type": "stream",
          "text": [
            "\r 60%|██████    | 6/10 [01:21<00:58, 14.60s/it]"
          ],
          "name": "stderr"
        },
        {
          "output_type": "stream",
          "text": [
            "Update the dictionary!\n",
            "Len of the dictionary: 2623\n",
            "General Number of segmentation Count = 273831\n",
            "No next segmentation\n"
          ],
          "name": "stdout"
        },
        {
          "output_type": "stream",
          "text": [
            "\r 70%|███████   | 7/10 [01:39<00:47, 15.71s/it]"
          ],
          "name": "stderr"
        },
        {
          "output_type": "stream",
          "text": [
            "Update the dictionary!\n",
            "Len of the dictionary: 2784\n",
            "General Number of segmentation Count = 304092\n",
            "No next segmentation\n"
          ],
          "name": "stdout"
        },
        {
          "output_type": "stream",
          "text": [
            "\r 80%|████████  | 8/10 [01:58<00:32, 16.48s/it]"
          ],
          "name": "stderr"
        },
        {
          "output_type": "stream",
          "text": [
            "Update the dictionary!\n",
            "Len of the dictionary: 2931\n",
            "General Number of segmentation Count = 333903\n",
            "No next segmentation\n"
          ],
          "name": "stdout"
        },
        {
          "output_type": "stream",
          "text": [
            "\r 90%|█████████ | 9/10 [02:15<00:16, 16.82s/it]"
          ],
          "name": "stderr"
        },
        {
          "output_type": "stream",
          "text": [
            "Update the dictionary!\n",
            "Len of the dictionary: 3077\n",
            "General Number of segmentation Count = 363346\n",
            "No next segmentation\n"
          ],
          "name": "stdout"
        },
        {
          "output_type": "stream",
          "text": [
            "100%|██████████| 10/10 [02:33<00:00, 15.39s/it]"
          ],
          "name": "stderr"
        },
        {
          "output_type": "stream",
          "text": [
            "Update the dictionary!\n",
            "Len of the dictionary: 3173\n",
            "General Number of segmentation Count = 392209\n"
          ],
          "name": "stdout"
        },
        {
          "output_type": "stream",
          "text": [
            "\n"
          ],
          "name": "stderr"
        },
        {
          "output_type": "stream",
          "text": [
            "\n",
            "\n",
            "MDL before calibrate: 2471836.018592757\n",
            "\n",
            "Length of the vocabulary before pruning: 3173\n",
            "Overlaping prunded = 0\n",
            "Dictionary len 1203\n",
            "\n",
            "Length of the vocabulary after 1 st pruning: 1203, DL of the text is : 2568768.39675412\n",
            "\n",
            "\n",
            "Length in bits of the vocab:516120.6373236\n",
            "\n",
            "\n",
            "MDL:3084889.03407772\n",
            "Total size __sizeof__ 352031 bytes\n",
            "Total size getsizeof 352063 bytes\n",
            " "
          ],
          "name": "stdout"
        }
      ]
    },
    {
      "cell_type": "markdown",
      "metadata": {
        "id": "d7Vood4lg-dM"
      },
      "source": [
        "**Historical graph**"
      ]
    },
    {
      "cell_type": "code",
      "metadata": {
        "id": "-hg41ZGUwuEE"
      },
      "source": [
        "def draw_hist_graph(gra, vocab, hist_segmentation, segmentation_list):\n",
        "    \"\"\" Draw the historical graph that create the vocabulary in the trie\n",
        "        This function is used after calling the `mdl_segment` with test vocabulary\n",
        "\n",
        "        Example\n",
        "        ----------\n",
        "            test_vocab = 'understand'\n",
        "            min_seg, back_pointers, segmentation_list, hist_segmentation = mdl_segment(test_vocab, trie, 'calibrated', check_segmentation= True)\n",
        "\n",
        "            gra = Digraph()\n",
        "            draw_hist_graph(gra, trie, hist_segmentation = hist_segmentation, segmentation_list = segmentation_list)\n",
        "            gra\n",
        "        ----------\n",
        "\n",
        "        Parameters\n",
        "        ----------\n",
        "        gra : Digraph()\n",
        "            The sound the animal makes (default is None)\n",
        "\n",
        "        vocab : the trie vocabulary\n",
        "            trie = Trie()\n",
        "\n",
        "        hist_segmentation : list\n",
        "            The historical segmentation created by `mdl_segment` indicated the way the algorithm choosed segmentations\n",
        "            Example: 'understand' -> ['u', 'n', 'un', 'nd', 'd', 'd', 'e', 'nder', 'r', 'under', 's', 'st', 't', 'a', 'an', 'and', 'stand']\n",
        "\n",
        "        segmentation_list : list\n",
        "            The final segmenation by the algorithm\n",
        "            Example: 'understand' -> ['under','stand']\n",
        "    \"\"\"\n",
        "\n",
        "    graph_hist = []\n",
        "    final_segmentation = []\n",
        "    for elem in hist_segmentation:\n",
        "      found = False\n",
        "      for parent in hist_segmentation:\n",
        "        if elem in parent and elem!=parent:\n",
        "          found = True\n",
        "          if (parent, elem) not in graph_hist:\n",
        "            gra.edge(\"'\" + parent + \"'\", \"'\" + elem + \"'\")\n",
        "\n",
        "            #Add parent DL\n",
        "            label = \"\"\"< '{}' <br/> <FONT POINT-SIZE=\"8\">DL: {:.3f}</FONT>>\"\"\".format(parent, vocab.vocab_dict_address[parent].calibrated_dl)\n",
        "            gra.node(\"'\" + parent + \"'\", label=label)\n",
        "\n",
        "            #Add element DL\n",
        "            label = \"\"\"< '{}' <br/> <FONT POINT-SIZE=\"8\">DL: {:.3f}</FONT>>\"\"\".format(elem, vocab.vocab_dict_address[elem].calibrated_dl)\n",
        "            gra.node(\"'\" + elem + \"'\", label=label)\n",
        "\n",
        "            graph_hist.append((parent,elem))\n",
        "          \n",
        "          if parent in segmentation_list:\n",
        "            gra.node(\"'\"+parent+\"'\", style='filled', fillcolor='yellow')\n",
        "            \n",
        "      if not found:\n",
        "      # for elem in hist_segmentation:\n",
        "        target_vocab = ''.join([str(elem) for elem in segmentation_list])\n",
        "        \n",
        "        if (target_vocab, elem) not in graph_hist:\n",
        "          final_segmentation.append(elem)\n",
        "          gra.edge(\"'\" + target_vocab + \"'\", \"'\"+elem+ \"'\")\n",
        "\n",
        "          label = \"\"\"< '{}' <br/> <FONT POINT-SIZE=\"8\">DL: {:.3f}</FONT>>\"\"\".format(target_vocab, vocab.vocab_dict_address[target_vocab].calibrated_dl)\n",
        "          gra.node(\"'\" + target_vocab + \"'\", label=label)\n",
        "\n",
        "          label = \"\"\"< '{}' <br/> <FONT POINT-SIZE=\"8\">DL: {:.3f}</FONT>>\"\"\".format(elem, vocab.vocab_dict_address[elem].calibrated_dl)\n",
        "          gra.node(\"'\" + elem + \"'\", label=label)\n",
        "\n",
        "          graph_hist.append((target_vocab,elem))\n",
        "\n",
        "        if elem in segmentation_list:\n",
        "          gra.node(\"'\"+elem+\"'\", style='filled', fillcolor='yellow')\n",
        "\n",
        "    for elem in set(segmentation_list) - set(final_segmentation):\n",
        "      # print(f'left over: {elem}')\n",
        "      gra.edge(\"'\" + target_vocab + \"'\", \"'\"+elem+ \"'\")\n",
        "      label = \"\"\"< '{}' <br/> <FONT POINT-SIZE=\"8\">DL: {:.3f}</FONT>>\"\"\".format(elem, vocab.vocab_dict_address[elem].calibrated_dl)\n",
        "      gra.node(\"'\"+elem+\"'\",label=label, style='filled', fillcolor='yellow')\n",
        "      graph_hist.append((target_vocab,elem))"
      ],
      "execution_count": null,
      "outputs": []
    },
    {
      "cell_type": "code",
      "metadata": {
        "colab": {
          "base_uri": "https://localhost:8080/",
          "height": 465
        },
        "id": "iHLNgGxmxqLw",
        "outputId": "904a5712-09bb-416d-93ce-e2d5dc0055fb"
      },
      "source": [
        "## Drawing a historical graph created the vocabulary\n",
        "test_vocab = 'happiness'\n",
        "min_seg, back_pointers, segmentation_list, hist_segmentation = mdl_segment(test_vocab, trie, 'calibrated', check_segmentation= True)\n",
        "\n",
        "gra = Digraph()\n",
        "draw_hist_graph(gra, trie, hist_segmentation = hist_segmentation, segmentation_list = segmentation_list)\n",
        "gra"
      ],
      "execution_count": null,
      "outputs": [
        {
          "output_type": "stream",
          "text": [
            "['h', 'ha', 'a', 'p', 'p', 'pp', 'app', 'i', 'in', 'n', 'e', 's', 'iness']\n"
          ],
          "name": "stdout"
        },
        {
          "output_type": "execute_result",
          "data": {
            "text/plain": [
              "<graphviz.dot.Digraph at 0x7f30bb662f10>"
            ],
            "image/svg+xml": "<?xml version=\"1.0\" encoding=\"UTF-8\" standalone=\"no\"?>\n<!DOCTYPE svg PUBLIC \"-//W3C//DTD SVG 1.1//EN\"\n \"http://www.w3.org/Graphics/SVG/1.1/DTD/svg11.dtd\">\n<!-- Generated by graphviz version 2.40.1 (20161225.0304)\n -->\n<!-- Title: %3 Pages: 1 -->\n<svg width=\"701pt\" height=\"320pt\"\n viewBox=\"0.00 0.00 700.61 319.65\" xmlns=\"http://www.w3.org/2000/svg\" xmlns:xlink=\"http://www.w3.org/1999/xlink\">\n<g id=\"graph0\" class=\"graph\" transform=\"scale(1 1) rotate(0) translate(4 315.6468)\">\n<title>%3</title>\n<polygon fill=\"#ffffff\" stroke=\"transparent\" points=\"-4,4 -4,-315.6468 696.6102,-315.6468 696.6102,4 -4,4\"/>\n<!-- &#39;ha&#39; -->\n<g id=\"node1\" class=\"node\">\n<title>&#39;ha&#39;</title>\n<ellipse fill=\"none\" stroke=\"#000000\" cx=\"136.3051\" cy=\"-199.2792\" rx=\"43.2674\" ry=\"25.4118\"/>\n<text text-anchor=\"start\" x=\"123.3051\" y=\"-203.0792\" font-family=\"Times,serif\" font-size=\"14.00\" fill=\"#000000\"> &#39;ha&#39; </text>\n<text text-anchor=\"start\" x=\"113.8051\" y=\"-189.0792\" font-family=\"Times,serif\" font-size=\"14.00\" fill=\"#000000\"> </text>\n<text text-anchor=\"start\" x=\"117.8051\" y=\"-189.0792\" font-family=\"Times,serif\" font-size=\"8.00\" fill=\"#000000\">DL: 11.050</text>\n</g>\n<!-- &#39;h&#39; -->\n<g id=\"node2\" class=\"node\">\n<title>&#39;h&#39;</title>\n<ellipse fill=\"#ffff00\" stroke=\"#000000\" cx=\"40.3051\" cy=\"-112.3675\" rx=\"40.1111\" ry=\"25.4118\"/>\n<text text-anchor=\"start\" x=\"30.3051\" y=\"-116.1675\" font-family=\"Times,serif\" font-size=\"14.00\" fill=\"#000000\"> &#39;h&#39; </text>\n<text text-anchor=\"start\" x=\"19.8051\" y=\"-102.1675\" font-family=\"Times,serif\" font-size=\"14.00\" fill=\"#000000\"> </text>\n<text text-anchor=\"start\" x=\"23.8051\" y=\"-102.1675\" font-family=\"Times,serif\" font-size=\"8.00\" fill=\"#000000\">DL: 8.833</text>\n</g>\n<!-- &#39;ha&#39;&#45;&gt;&#39;h&#39; -->\n<g id=\"edge1\" class=\"edge\">\n<title>&#39;ha&#39;&#45;&gt;&#39;h&#39;</title>\n<path fill=\"none\" stroke=\"#000000\" d=\"M112.5747,-177.7954C100.0428,-166.4499 84.5156,-152.3927 71.0693,-140.2193\"/>\n<polygon fill=\"#000000\" stroke=\"#000000\" points=\"73.1935,-137.4211 63.4312,-133.3043 68.4955,-142.6104 73.1935,-137.4211\"/>\n</g>\n<!-- &#39;a&#39; -->\n<g id=\"node4\" class=\"node\">\n<title>&#39;a&#39;</title>\n<ellipse fill=\"none\" stroke=\"#000000\" cx=\"139.3051\" cy=\"-112.3675\" rx=\"40.1111\" ry=\"25.4118\"/>\n<text text-anchor=\"start\" x=\"129.8051\" y=\"-116.1675\" font-family=\"Times,serif\" font-size=\"14.00\" fill=\"#000000\"> &#39;a&#39; </text>\n<text text-anchor=\"start\" x=\"118.8051\" y=\"-102.1675\" font-family=\"Times,serif\" font-size=\"14.00\" fill=\"#000000\"> </text>\n<text text-anchor=\"start\" x=\"122.8051\" y=\"-102.1675\" font-family=\"Times,serif\" font-size=\"8.00\" fill=\"#000000\">DL: 6.497</text>\n</g>\n<!-- &#39;ha&#39;&#45;&gt;&#39;a&#39; -->\n<g id=\"edge3\" class=\"edge\">\n<title>&#39;ha&#39;&#45;&gt;&#39;a&#39;</title>\n<path fill=\"none\" stroke=\"#000000\" d=\"M137.189,-173.6729C137.4642,-165.699 137.7729,-156.7545 138.0677,-148.2147\"/>\n<polygon fill=\"#000000\" stroke=\"#000000\" points=\"141.57,-148.206 138.4172,-138.0911 134.5742,-147.9644 141.57,-148.206\"/>\n</g>\n<!-- &#39;happiness&#39; -->\n<g id=\"node3\" class=\"node\">\n<title>&#39;happiness&#39;</title>\n<ellipse fill=\"none\" stroke=\"#000000\" cx=\"188.3051\" cy=\"-286.1909\" rx=\"60.2083\" ry=\"25.4118\"/>\n<text text-anchor=\"start\" x=\"153.8051\" y=\"-289.9909\" font-family=\"Times,serif\" font-size=\"14.00\" fill=\"#000000\"> &#39;happiness&#39; </text>\n<text text-anchor=\"start\" x=\"165.8051\" y=\"-275.9909\" font-family=\"Times,serif\" font-size=\"14.00\" fill=\"#000000\"> </text>\n<text text-anchor=\"start\" x=\"169.8051\" y=\"-275.9909\" font-family=\"Times,serif\" font-size=\"8.00\" fill=\"#000000\">DL: 12.379</text>\n</g>\n<!-- &#39;happiness&#39;&#45;&gt;&#39;ha&#39; -->\n<g id=\"edge2\" class=\"edge\">\n<title>&#39;happiness&#39;&#45;&gt;&#39;ha&#39;</title>\n<path fill=\"none\" stroke=\"#000000\" d=\"M173.2645,-261.0524C167.9001,-252.0864 161.7737,-241.8469 156.0723,-232.3177\"/>\n<polygon fill=\"#000000\" stroke=\"#000000\" points=\"158.9127,-230.248 150.7749,-223.4637 152.9057,-233.8421 158.9127,-230.248\"/>\n</g>\n<!-- &#39;happiness&#39;&#45;&gt;&#39;h&#39; -->\n<g id=\"edge17\" class=\"edge\">\n<title>&#39;happiness&#39;&#45;&gt;&#39;h&#39;</title>\n<path fill=\"none\" stroke=\"#000000\" d=\"M144.7277,-268.5563C124.0906,-258.3559 100.481,-243.7403 84.3051,-224.7351 65.5321,-202.6785 54.2031,-171.6736 47.7531,-147.8179\"/>\n<polygon fill=\"#000000\" stroke=\"#000000\" points=\"51.1336,-146.9097 45.28,-138.0787 44.3489,-148.6326 51.1336,-146.9097\"/>\n</g>\n<!-- &#39;app&#39; -->\n<g id=\"node5\" class=\"node\">\n<title>&#39;app&#39;</title>\n<ellipse fill=\"#ffff00\" stroke=\"#000000\" cx=\"240.3051\" cy=\"-199.2792\" rx=\"43.2674\" ry=\"25.4118\"/>\n<text text-anchor=\"start\" x=\"223.3051\" y=\"-203.0792\" font-family=\"Times,serif\" font-size=\"14.00\" fill=\"#000000\"> &#39;app&#39; </text>\n<text text-anchor=\"start\" x=\"217.8051\" y=\"-189.0792\" font-family=\"Times,serif\" font-size=\"14.00\" fill=\"#000000\"> </text>\n<text text-anchor=\"start\" x=\"221.8051\" y=\"-189.0792\" font-family=\"Times,serif\" font-size=\"8.00\" fill=\"#000000\">DL: 11.255</text>\n</g>\n<!-- &#39;happiness&#39;&#45;&gt;&#39;app&#39; -->\n<g id=\"edge8\" class=\"edge\">\n<title>&#39;happiness&#39;&#45;&gt;&#39;app&#39;</title>\n<path fill=\"none\" stroke=\"#000000\" d=\"M203.3456,-261.0524C208.7101,-252.0864 214.8365,-241.8469 220.5379,-232.3177\"/>\n<polygon fill=\"#000000\" stroke=\"#000000\" points=\"223.7044,-233.8421 225.8353,-223.4637 217.6975,-230.248 223.7044,-233.8421\"/>\n</g>\n<!-- &#39;iness&#39; -->\n<g id=\"node10\" class=\"node\">\n<title>&#39;iness&#39;</title>\n<ellipse fill=\"#ffff00\" stroke=\"#000000\" cx=\"451.3051\" cy=\"-199.2792\" rx=\"43.2674\" ry=\"25.4118\"/>\n<text text-anchor=\"start\" x=\"431.3051\" y=\"-203.0792\" font-family=\"Times,serif\" font-size=\"14.00\" fill=\"#000000\"> &#39;iness&#39; </text>\n<text text-anchor=\"start\" x=\"428.8051\" y=\"-189.0792\" font-family=\"Times,serif\" font-size=\"14.00\" fill=\"#000000\"> </text>\n<text text-anchor=\"start\" x=\"432.8051\" y=\"-189.0792\" font-family=\"Times,serif\" font-size=\"8.00\" fill=\"#000000\">DL: 12.173</text>\n</g>\n<!-- &#39;happiness&#39;&#45;&gt;&#39;iness&#39; -->\n<g id=\"edge16\" class=\"edge\">\n<title>&#39;happiness&#39;&#45;&gt;&#39;iness&#39;</title>\n<path fill=\"none\" stroke=\"#000000\" d=\"M235.9324,-270.4519C283.4719,-254.7418 356.1113,-230.7372 403.6579,-215.0248\"/>\n<polygon fill=\"#000000\" stroke=\"#000000\" points=\"405.0081,-218.2649 413.4048,-211.8038 402.8116,-211.6184 405.0081,-218.2649\"/>\n</g>\n<!-- &#39;app&#39;&#45;&gt;&#39;a&#39; -->\n<g id=\"edge4\" class=\"edge\">\n<title>&#39;app&#39;&#45;&gt;&#39;a&#39;</title>\n<path fill=\"none\" stroke=\"#000000\" d=\"M215.8558,-178.2403C202.3588,-166.626 185.4429,-152.0697 170.9476,-139.5963\"/>\n<polygon fill=\"#000000\" stroke=\"#000000\" points=\"173.0436,-136.7824 163.1807,-132.9128 168.4777,-142.0884 173.0436,-136.7824\"/>\n</g>\n<!-- &#39;pp&#39; -->\n<g id=\"node6\" class=\"node\">\n<title>&#39;pp&#39;</title>\n<ellipse fill=\"none\" stroke=\"#000000\" cx=\"240.3051\" cy=\"-112.3675\" rx=\"43.2674\" ry=\"25.4118\"/>\n<text text-anchor=\"start\" x=\"226.3051\" y=\"-116.1675\" font-family=\"Times,serif\" font-size=\"14.00\" fill=\"#000000\"> &#39;pp&#39; </text>\n<text text-anchor=\"start\" x=\"217.8051\" y=\"-102.1675\" font-family=\"Times,serif\" font-size=\"14.00\" fill=\"#000000\"> </text>\n<text text-anchor=\"start\" x=\"221.8051\" y=\"-102.1675\" font-family=\"Times,serif\" font-size=\"8.00\" fill=\"#000000\">DL: 12.909</text>\n</g>\n<!-- &#39;app&#39;&#45;&gt;&#39;pp&#39; -->\n<g id=\"edge7\" class=\"edge\">\n<title>&#39;app&#39;&#45;&gt;&#39;pp&#39;</title>\n<path fill=\"none\" stroke=\"#000000\" d=\"M240.3051,-173.6729C240.3051,-165.699 240.3051,-156.7545 240.3051,-148.2147\"/>\n<polygon fill=\"#000000\" stroke=\"#000000\" points=\"243.8052,-148.0911 240.3051,-138.0911 236.8052,-148.0912 243.8052,-148.0911\"/>\n</g>\n<!-- &#39;p&#39; -->\n<g id=\"node7\" class=\"node\">\n<title>&#39;p&#39;</title>\n<ellipse fill=\"none\" stroke=\"#000000\" cx=\"254.3051\" cy=\"-25.4558\" rx=\"40.1111\" ry=\"25.4118\"/>\n<text text-anchor=\"start\" x=\"244.3051\" y=\"-29.2558\" font-family=\"Times,serif\" font-size=\"14.00\" fill=\"#000000\"> &#39;p&#39; </text>\n<text text-anchor=\"start\" x=\"233.8051\" y=\"-15.2558\" font-family=\"Times,serif\" font-size=\"14.00\" fill=\"#000000\"> </text>\n<text text-anchor=\"start\" x=\"237.8051\" y=\"-15.2558\" font-family=\"Times,serif\" font-size=\"8.00\" fill=\"#000000\">DL: 8.847</text>\n</g>\n<!-- &#39;app&#39;&#45;&gt;&#39;p&#39; -->\n<g id=\"edge6\" class=\"edge\">\n<title>&#39;app&#39;&#45;&gt;&#39;p&#39;</title>\n<path fill=\"none\" stroke=\"#000000\" d=\"M264.6739,-178.1803C275.3357,-167.3342 286.6807,-153.178 292.3051,-137.8234 300.0878,-116.5765 298.4907,-108.6772 292.3051,-86.9117 289.3166,-76.3959 283.959,-65.9178 278.1917,-56.6703\"/>\n<polygon fill=\"#000000\" stroke=\"#000000\" points=\"281.0377,-54.6286 272.6007,-48.2202 275.1998,-58.4913 281.0377,-54.6286\"/>\n</g>\n<!-- &#39;pp&#39;&#45;&gt;&#39;p&#39; -->\n<g id=\"edge5\" class=\"edge\">\n<title>&#39;pp&#39;&#45;&gt;&#39;p&#39;</title>\n<path fill=\"none\" stroke=\"#000000\" d=\"M244.4298,-86.7612C245.74,-78.6277 247.2128,-69.4844 248.6132,-60.7907\"/>\n<polygon fill=\"#000000\" stroke=\"#000000\" points=\"252.0749,-61.3085 250.2098,-50.8791 245.164,-60.1952 252.0749,-61.3085\"/>\n</g>\n<!-- &#39;in&#39; -->\n<g id=\"node8\" class=\"node\">\n<title>&#39;in&#39;</title>\n<ellipse fill=\"none\" stroke=\"#000000\" cx=\"417.3051\" cy=\"-112.3675\" rx=\"40.1111\" ry=\"25.4118\"/>\n<text text-anchor=\"start\" x=\"405.3051\" y=\"-116.1675\" font-family=\"Times,serif\" font-size=\"14.00\" fill=\"#000000\"> &#39;in&#39; </text>\n<text text-anchor=\"start\" x=\"396.8051\" y=\"-102.1675\" font-family=\"Times,serif\" font-size=\"14.00\" fill=\"#000000\"> </text>\n<text text-anchor=\"start\" x=\"400.8051\" y=\"-102.1675\" font-family=\"Times,serif\" font-size=\"8.00\" fill=\"#000000\">DL: 6.899</text>\n</g>\n<!-- &#39;i&#39; -->\n<g id=\"node9\" class=\"node\">\n<title>&#39;i&#39;</title>\n<ellipse fill=\"none\" stroke=\"#000000\" cx=\"358.3051\" cy=\"-25.4558\" rx=\"40.1111\" ry=\"25.4118\"/>\n<text text-anchor=\"start\" x=\"350.3051\" y=\"-29.2558\" font-family=\"Times,serif\" font-size=\"14.00\" fill=\"#000000\"> &#39;i&#39; </text>\n<text text-anchor=\"start\" x=\"337.8051\" y=\"-15.2558\" font-family=\"Times,serif\" font-size=\"14.00\" fill=\"#000000\"> </text>\n<text text-anchor=\"start\" x=\"341.8051\" y=\"-15.2558\" font-family=\"Times,serif\" font-size=\"8.00\" fill=\"#000000\">DL: 8.208</text>\n</g>\n<!-- &#39;in&#39;&#45;&gt;&#39;i&#39; -->\n<g id=\"edge9\" class=\"edge\">\n<title>&#39;in&#39;&#45;&gt;&#39;i&#39;</title>\n<path fill=\"none\" stroke=\"#000000\" d=\"M401.1831,-88.6185C394.6259,-78.9593 386.9499,-67.6519 379.9189,-57.2947\"/>\n<polygon fill=\"#000000\" stroke=\"#000000\" points=\"382.7158,-55.1831 374.2033,-48.8752 376.9242,-59.1147 382.7158,-55.1831\"/>\n</g>\n<!-- &#39;n&#39; -->\n<g id=\"node11\" class=\"node\">\n<title>&#39;n&#39;</title>\n<ellipse fill=\"none\" stroke=\"#000000\" cx=\"475.3051\" cy=\"-25.4558\" rx=\"40.1111\" ry=\"25.4118\"/>\n<text text-anchor=\"start\" x=\"465.3051\" y=\"-29.2558\" font-family=\"Times,serif\" font-size=\"14.00\" fill=\"#000000\"> &#39;n&#39; </text>\n<text text-anchor=\"start\" x=\"454.8051\" y=\"-15.2558\" font-family=\"Times,serif\" font-size=\"14.00\" fill=\"#000000\"> </text>\n<text text-anchor=\"start\" x=\"458.8051\" y=\"-15.2558\" font-family=\"Times,serif\" font-size=\"8.00\" fill=\"#000000\">DL: 7.870</text>\n</g>\n<!-- &#39;in&#39;&#45;&gt;&#39;n&#39; -->\n<g id=\"edge12\" class=\"edge\">\n<title>&#39;in&#39;&#45;&gt;&#39;n&#39;</title>\n<path fill=\"none\" stroke=\"#000000\" d=\"M433.1538,-88.6185C439.5475,-79.0378 447.0232,-67.8356 453.8889,-57.5475\"/>\n<polygon fill=\"#000000\" stroke=\"#000000\" points=\"456.8358,-59.4369 459.4755,-49.1761 451.0133,-55.5512 456.8358,-59.4369\"/>\n</g>\n<!-- &#39;iness&#39;&#45;&gt;&#39;in&#39; -->\n<g id=\"edge11\" class=\"edge\">\n<title>&#39;iness&#39;&#45;&gt;&#39;in&#39;</title>\n<path fill=\"none\" stroke=\"#000000\" d=\"M441.4709,-174.1408C438.0939,-165.5084 434.2551,-155.6957 430.6471,-146.4728\"/>\n<polygon fill=\"#000000\" stroke=\"#000000\" points=\"433.9025,-145.187 426.9998,-137.1494 427.3835,-147.7372 433.9025,-145.187\"/>\n</g>\n<!-- &#39;iness&#39;&#45;&gt;&#39;i&#39; -->\n<g id=\"edge10\" class=\"edge\">\n<title>&#39;iness&#39;&#45;&gt;&#39;i&#39;</title>\n<path fill=\"none\" stroke=\"#000000\" d=\"M417.3813,-183.0749C399.6348,-172.7233 379.3555,-157.5278 368.3051,-137.8234 355.2621,-114.5659 353.264,-84.2641 354.2519,-60.9889\"/>\n<polygon fill=\"#000000\" stroke=\"#000000\" points=\"357.7555,-61.039 354.8869,-50.84 350.7692,-60.6018 357.7555,-61.039\"/>\n</g>\n<!-- &#39;iness&#39;&#45;&gt;&#39;n&#39; -->\n<g id=\"edge13\" class=\"edge\">\n<title>&#39;iness&#39;&#45;&gt;&#39;n&#39;</title>\n<path fill=\"none\" stroke=\"#000000\" d=\"M458.4251,-174.0494C461.2895,-163.0114 464.367,-149.859 466.3051,-137.8234 470.3961,-112.4182 472.6589,-83.4677 473.8923,-61.3154\"/>\n<polygon fill=\"#000000\" stroke=\"#000000\" points=\"477.4028,-61.198 474.4186,-51.0321 470.4119,-60.8401 477.4028,-61.198\"/>\n</g>\n<!-- &#39;e&#39; -->\n<g id=\"node12\" class=\"node\">\n<title>&#39;e&#39;</title>\n<ellipse fill=\"none\" stroke=\"#000000\" cx=\"553.3051\" cy=\"-112.3675\" rx=\"40.1111\" ry=\"25.4118\"/>\n<text text-anchor=\"start\" x=\"543.8051\" y=\"-116.1675\" font-family=\"Times,serif\" font-size=\"14.00\" fill=\"#000000\"> &#39;e&#39; </text>\n<text text-anchor=\"start\" x=\"532.8051\" y=\"-102.1675\" font-family=\"Times,serif\" font-size=\"14.00\" fill=\"#000000\"> </text>\n<text text-anchor=\"start\" x=\"536.8051\" y=\"-102.1675\" font-family=\"Times,serif\" font-size=\"8.00\" fill=\"#000000\">DL: 6.572</text>\n</g>\n<!-- &#39;iness&#39;&#45;&gt;&#39;e&#39; -->\n<g id=\"edge14\" class=\"edge\">\n<title>&#39;iness&#39;&#45;&gt;&#39;e&#39;</title>\n<path fill=\"none\" stroke=\"#000000\" d=\"M475.9964,-178.2403C489.6271,-166.626 506.7104,-152.0697 521.3493,-139.5963\"/>\n<polygon fill=\"#000000\" stroke=\"#000000\" points=\"523.8515,-142.0625 529.1931,-132.9128 519.3115,-136.7344 523.8515,-142.0625\"/>\n</g>\n<!-- &#39;s&#39; -->\n<g id=\"node13\" class=\"node\">\n<title>&#39;s&#39;</title>\n<ellipse fill=\"none\" stroke=\"#000000\" cx=\"652.3051\" cy=\"-112.3675\" rx=\"40.1111\" ry=\"25.4118\"/>\n<text text-anchor=\"start\" x=\"643.3051\" y=\"-116.1675\" font-family=\"Times,serif\" font-size=\"14.00\" fill=\"#000000\"> &#39;s&#39; </text>\n<text text-anchor=\"start\" x=\"631.8051\" y=\"-102.1675\" font-family=\"Times,serif\" font-size=\"14.00\" fill=\"#000000\"> </text>\n<text text-anchor=\"start\" x=\"635.8051\" y=\"-102.1675\" font-family=\"Times,serif\" font-size=\"8.00\" fill=\"#000000\">DL: 5.925</text>\n</g>\n<!-- &#39;iness&#39;&#45;&gt;&#39;s&#39; -->\n<g id=\"edge15\" class=\"edge\">\n<title>&#39;iness&#39;&#45;&gt;&#39;s&#39;</title>\n<path fill=\"none\" stroke=\"#000000\" d=\"M487.6717,-185.4728C518.4871,-173.5379 563.6923,-155.4721 602.3051,-137.8234 605.5027,-136.3618 608.7926,-134.8064 612.0852,-133.2126\"/>\n<polygon fill=\"#000000\" stroke=\"#000000\" points=\"613.8792,-136.2303 621.297,-128.6654 610.7807,-129.9533 613.8792,-136.2303\"/>\n</g>\n</g>\n</svg>\n"
          },
          "metadata": {
            "tags": []
          },
          "execution_count": 44
        }
      ]
    },
    {
      "cell_type": "markdown",
      "metadata": {
        "id": "i66Gzj7-g0IK"
      },
      "source": [
        "**Graph from historical built word (left parent and right parent)**"
      ]
    },
    {
      "cell_type": "code",
      "metadata": {
        "id": "qodfVDiAUu7F"
      },
      "source": [
        "from graphviz import Digraph"
      ],
      "execution_count": null,
      "outputs": []
    },
    {
      "cell_type": "code",
      "metadata": {
        "colab": {
          "base_uri": "https://localhost:8080/",
          "height": 340
        },
        "id": "nbmX5GfXWBjI",
        "outputId": "071672a9-3de8-4fb2-9d41-9a469e289576"
      },
      "source": [
        "gra = Digraph()\n",
        "\n",
        "def get_sub_segmentation_and_edges(vocab_trie, segmentation, parent, memo = []):\n",
        "    \n",
        "    try:\n",
        "        left_seg = vocab_trie.vocab_dict_address[segmentation].left_seg\n",
        "    \n",
        "    except:\n",
        "        left_seg = None\n",
        "\n",
        "    try:\n",
        "        right_seg = vocab_trie.vocab_dict_address[segmentation].right_seg\n",
        "      \n",
        "    except:\n",
        "        right_seg = None\n",
        "\n",
        "\n",
        "    if (left_seg == None) and (right_seg == None):\n",
        "        if (segmentation,parent) not in memo:\n",
        "            memo.append((segmentation,parent))\n",
        "            print(memo)\n",
        "            gra.edge(segmentation, parent)\n",
        "        return [segmentation]\n",
        "\n",
        "    gra.edge(left_seg+right_seg,parent)\n",
        "    return [get_sub_segmentation_and_edges(vocab_trie, left_seg, segmentation)+ get_sub_segmentation_and_edges(vocab_trie, right_seg, segmentation)]\n",
        "\n",
        "print(get_sub_segmentation_and_edges(trie, 'Woodhouse', ''))\n",
        "del gra.body[0]\n",
        "gra\n"
      ],
      "execution_count": null,
      "outputs": [
        {
          "output_type": "stream",
          "text": [
            "[('Wood', 'Woodhouse')]\n",
            "[('Wood', 'Woodhouse'), ('h', 'house')]\n",
            "[('Wood', 'Woodhouse'), ('h', 'house'), ('ouse', 'house')]\n",
            "[['Wood', ['h', 'ouse']]]\n"
          ],
          "name": "stdout"
        },
        {
          "output_type": "execute_result",
          "data": {
            "text/plain": [
              "<graphviz.dot.Digraph at 0x7f30bbb12fd0>"
            ],
            "image/svg+xml": "<?xml version=\"1.0\" encoding=\"UTF-8\" standalone=\"no\"?>\n<!DOCTYPE svg PUBLIC \"-//W3C//DTD SVG 1.1//EN\"\n \"http://www.w3.org/Graphics/SVG/1.1/DTD/svg11.dtd\">\n<!-- Generated by graphviz version 2.40.1 (20161225.0304)\n -->\n<!-- Title: %3 Pages: 1 -->\n<svg width=\"190pt\" height=\"188pt\"\n viewBox=\"0.00 0.00 189.74 188.00\" xmlns=\"http://www.w3.org/2000/svg\" xmlns:xlink=\"http://www.w3.org/1999/xlink\">\n<g id=\"graph0\" class=\"graph\" transform=\"scale(1 1) rotate(0) translate(4 184)\">\n<title>%3</title>\n<polygon fill=\"#ffffff\" stroke=\"transparent\" points=\"-4,4 -4,-184 185.7445,-184 185.7445,4 -4,4\"/>\n<!-- Wood -->\n<g id=\"node1\" class=\"node\">\n<title>Wood</title>\n<ellipse fill=\"none\" stroke=\"#000000\" cx=\"33.797\" cy=\"-90\" rx=\"33.5952\" ry=\"18\"/>\n<text text-anchor=\"middle\" x=\"33.797\" y=\"-86.3\" font-family=\"Times,serif\" font-size=\"14.00\" fill=\"#000000\">Wood</text>\n</g>\n<!-- Woodhouse -->\n<g id=\"node2\" class=\"node\">\n<title>Woodhouse</title>\n<ellipse fill=\"none\" stroke=\"#000000\" cx=\"75.797\" cy=\"-18\" rx=\"55.7903\" ry=\"18\"/>\n<text text-anchor=\"middle\" x=\"75.797\" y=\"-14.3\" font-family=\"Times,serif\" font-size=\"14.00\" fill=\"#000000\">Woodhouse</text>\n</g>\n<!-- Wood&#45;&gt;Woodhouse -->\n<g id=\"edge1\" class=\"edge\">\n<title>Wood&#45;&gt;Woodhouse</title>\n<path fill=\"none\" stroke=\"#000000\" d=\"M43.964,-72.5708C48.8438,-64.2055 54.7982,-53.998 60.2314,-44.6839\"/>\n<polygon fill=\"#000000\" stroke=\"#000000\" points=\"63.4163,-46.1702 65.4318,-35.7689 57.3698,-42.6431 63.4163,-46.1702\"/>\n</g>\n<!-- house -->\n<g id=\"node3\" class=\"node\">\n<title>house</title>\n<ellipse fill=\"none\" stroke=\"#000000\" cx=\"117.797\" cy=\"-90\" rx=\"32.4942\" ry=\"18\"/>\n<text text-anchor=\"middle\" x=\"117.797\" y=\"-86.3\" font-family=\"Times,serif\" font-size=\"14.00\" fill=\"#000000\">house</text>\n</g>\n<!-- house&#45;&gt;Woodhouse -->\n<g id=\"edge2\" class=\"edge\">\n<title>house&#45;&gt;Woodhouse</title>\n<path fill=\"none\" stroke=\"#000000\" d=\"M107.63,-72.5708C102.7502,-64.2055 96.7958,-53.998 91.3626,-44.6839\"/>\n<polygon fill=\"#000000\" stroke=\"#000000\" points=\"94.2242,-42.6431 86.1622,-35.7689 88.1777,-46.1702 94.2242,-42.6431\"/>\n</g>\n<!-- h -->\n<g id=\"node4\" class=\"node\">\n<title>h</title>\n<ellipse fill=\"none\" stroke=\"#000000\" cx=\"80.797\" cy=\"-162\" rx=\"27\" ry=\"18\"/>\n<text text-anchor=\"middle\" x=\"80.797\" y=\"-158.3\" font-family=\"Times,serif\" font-size=\"14.00\" fill=\"#000000\">h</text>\n</g>\n<!-- h&#45;&gt;house -->\n<g id=\"edge3\" class=\"edge\">\n<title>h&#45;&gt;house</title>\n<path fill=\"none\" stroke=\"#000000\" d=\"M89.5655,-144.937C93.9249,-136.4537 99.2923,-126.0092 104.1723,-116.513\"/>\n<polygon fill=\"#000000\" stroke=\"#000000\" points=\"107.3767,-117.9348 108.8344,-107.4407 101.1507,-114.7352 107.3767,-117.9348\"/>\n</g>\n<!-- ouse -->\n<g id=\"node5\" class=\"node\">\n<title>ouse</title>\n<ellipse fill=\"none\" stroke=\"#000000\" cx=\"153.797\" cy=\"-162\" rx=\"27.8951\" ry=\"18\"/>\n<text text-anchor=\"middle\" x=\"153.797\" y=\"-158.3\" font-family=\"Times,serif\" font-size=\"14.00\" fill=\"#000000\">ouse</text>\n</g>\n<!-- ouse&#45;&gt;house -->\n<g id=\"edge4\" class=\"edge\">\n<title>ouse&#45;&gt;house</title>\n<path fill=\"none\" stroke=\"#000000\" d=\"M145.0824,-144.5708C140.8685,-136.1431 135.7198,-125.8455 131.0347,-116.4755\"/>\n<polygon fill=\"#000000\" stroke=\"#000000\" points=\"134.1588,-114.8973 126.5561,-107.5182 127.8978,-118.0278 134.1588,-114.8973\"/>\n</g>\n</g>\n</svg>\n"
          },
          "metadata": {
            "tags": []
          },
          "execution_count": 46
        }
      ]
    },
    {
      "cell_type": "markdown",
      "metadata": {
        "id": "YkPp_dglgta6"
      },
      "source": [
        "**Vertical graph**"
      ]
    },
    {
      "cell_type": "code",
      "metadata": {
        "id": "8sXm7kduBvF8"
      },
      "source": [
        "def plot_demo_data(vocab,segmentation_list,min_segm,demo_data):\n",
        "    fig=plt.figure(figsize=(20,8), dpi= 100, facecolor='w', edgecolor='k')\n",
        "    ax = fig.add_subplot(111)\n",
        "    text_length_cursor = 0\n",
        "    demo_data_cp = demo_data.copy()\n",
        "    for i,segment in enumerate(segmentation_list):\n",
        "        text_length_cursor += len(segment)\n",
        "\n",
        "        # Draw main segmentation line\n",
        "        x_1 = min_segm[text_length_cursor]-vocab.vocab_dict_address[segment].dl, min_segm[text_length_cursor]\n",
        "        y_1 = 0,0\n",
        "        plt.plot(x_1,y_1,marker='o')\n",
        "        ax.annotate(\"'\"+segment+\"'\", xy=(min_segm[text_length_cursor]-vocab.vocab_dict_address[segment].dl/2,0.1), textcoords='data')\n",
        "\n",
        "        if len(segment) != 1:\n",
        "            #Draw analysis\n",
        "            temp_cursor = text_length_cursor\n",
        "            temp_prev_cursor = text_length_cursor - len(segment)\n",
        "            sub_strings = []\n",
        "            for data in demo_data_cp:\n",
        "                if (data[1] <=temp_cursor) & (data[1]>=temp_prev_cursor):\n",
        "                  sub_strings.append(data)\n",
        "            loc_i, loc_seg, hight_level, char,DL, MDL = [*zip(*sub_strings)]\n",
        "            new_list = []\n",
        "            for item in zip(char,DL,MDL):\n",
        "              if item[0] in segment and item[0] != segment:\n",
        "                new_list.append(item)\n",
        "            # print(new_list)\n",
        "            \n",
        "            ending = {}\n",
        "            count = {}\n",
        "            for j in range(len(new_list)):\n",
        "              A = round(new_list[j][2]-new_list[j][1],5),round(new_list[j][2],5)\n",
        "              b_y =(i%4)*10+ j+1\n",
        "              \n",
        "              ending[round(new_list[j][2],5)] = (i%4)*10+ j+1\n",
        "              count[round(new_list[j][2],5)] = 0\n",
        "              if round(new_list[j][2]-new_list[j][1],5) in ending:         \n",
        "                b_y = ending[round(new_list[j][2]-new_list[j][1],5)] +count[round(new_list[j][2]-new_list[j][1],5)]\n",
        "                count[round(new_list[j][2]-new_list[j][1],5)] += 0.5\n",
        "              B = b_y,b_y\n",
        "              plt.plot(A,B,marker='o')\n",
        "              ax.annotate(\"'\"+new_list[j][0]+\"'\", xy=(round(new_list[j][2] - new_list[j][1]/2,5),b_y + 0.1), textcoords='data')\n",
        "\n",
        "              if (round(new_list[j][2]-new_list[j][1],5) == round(min_segm[temp_prev_cursor],5)):\n",
        "                verticle_x = round(new_list[j][2]-new_list[j][1],5),round(new_list[j][2]-new_list[j][1],5)\n",
        "                verticle_y = 0, b_y\n",
        "                plt.plot( verticle_x ,  verticle_y , '--',marker='o')\n",
        "    plt.ylim(top=45)  \n",
        "    plt.ylim(bottom=-1)\n",
        "    plt.xlabel('MDL')\n",
        "    plt.show()\n",
        "# plot_demo_data_2(trie,segmentation_list[0:10],min_segm,demo_data)"
      ],
      "execution_count": null,
      "outputs": []
    },
    {
      "cell_type": "code",
      "metadata": {
        "id": "jga7iNGuvcbe"
      },
      "source": [
        "min_segm, back_pointers, segmentation_list, demo_data= mdl_segment_upgrade_dictionary(text[50:500], trie, demo_mode=2)"
      ],
      "execution_count": null,
      "outputs": []
    },
    {
      "cell_type": "code",
      "metadata": {
        "colab": {
          "base_uri": "https://localhost:8080/",
          "height": 684
        },
        "id": "UoUODJsyxTAD",
        "outputId": "d292f5bd-e3eb-48a2-e211-4e018c3b3ed4"
      },
      "source": [
        "plot_demo_data(trie,segmentation_list[0:10],min_segm,demo_data)"
      ],
      "execution_count": null,
      "outputs": [
        {
          "output_type": "display_data",
          "data": {
            "image/png": "[encoded data removed]",
            "text/plain": [
              "<Figure size 2000x800 with 1 Axes>"
            ]
          },
          "metadata": {
            "tags": []
          }
        }
      ]
    },
    {
      "cell_type": "markdown",
      "metadata": {
        "id": "cMNlJcUgbmhA"
      },
      "source": [
        "**Example of Huffman code dictionary, how it works**\n",
        "\n",
        "\n",
        "1.   First I coverted the frequency dictionary to bitarray dictionary\n",
        "2.   From bitarray dictionary, I converted it to a trie where each node of the trie is binary value (0,1), the values of each trie node are the dictionary key (for example, 'aa','bb'), and is_end.\n",
        "\n"
      ]
    },
    {
      "cell_type": "code",
      "metadata": {
        "id": "xR1ynLofW1fQ"
      },
      "source": [
        "# freq_dict={   'a':5, \n",
        "#               'b':9,\n",
        "#               'c':12,\n",
        "#               'd':13,\n",
        "#               'e':16,\n",
        "#               'f':45,'aa':101,'bb':95}\n",
        "# nodes = huffman_code_of_dict3(freq_dict, 1000)\n",
        "# bitarray_dict = {}\n",
        "# bitarray_dict = convert_tree_to_dict(nodes[0], bitarray_dictionary=bitarray_dict)\n",
        "# bitarray_dict"
      ],
      "execution_count": null,
      "outputs": []
    },
    {
      "cell_type": "markdown",
      "metadata": {
        "id": "4uePuaWonLZw"
      },
      "source": [
        "**Decoder:**\n",
        "\n",
        "    Input: bit sequence, trie decoder dictionary\n",
        "    Output: text\n",
        "\n",
        "\n",
        "\n"
      ]
    },
    {
      "cell_type": "code",
      "metadata": {
        "id": "c7D72YgEoJGn"
      },
      "source": [
        "class BitArrayNote:\n",
        "    \"\"\"A node in the trie structure\"\"\"\n",
        "\n",
        "    def __init__(self, vocab):\n",
        "        self.vocab = vocab\n",
        "        self.is_end = False \n",
        "        self.child = {}        #0/1 \n",
        "        \n",
        "class BitArrayTrie(object):\n",
        "\n",
        "    def __init__(self):\n",
        "        self.root = BitArrayNote(\"\")\n",
        "\n",
        "    def insert(self, array_of_bit, vocab):\n",
        "        \"\"\"Insert a word into the trie\"\"\"\n",
        "        node = self.root\n",
        "        # Loop through each character in the word\n",
        "        # Check if there is no child containing the character, create a new child for the current node\n",
        "        for i, bit in enumerate(array_of_bit):\n",
        "            if int(bit) in node.child:\n",
        "                node = node.child[int(bit)]\n",
        "            else:  \n",
        "                # If a character is not found,\n",
        "                # create a new node in the trie\n",
        "                new_node = BitArrayNote(\"\")\n",
        "                node.child[int(bit)] = new_node\n",
        "                node = new_node\n",
        "               \n",
        "        # node.DL = -math.log(P(word))\n",
        "        node.vocab = vocab\n",
        "        node.is_end = True"
      ],
      "execution_count": null,
      "outputs": []
    },
    {
      "cell_type": "code",
      "metadata": {
        "id": "L0U2dnjdtpKY"
      },
      "source": [
        "bitarrayTrie = BitArrayTrie()"
      ],
      "execution_count": null,
      "outputs": []
    },
    {
      "cell_type": "code",
      "metadata": {
        "id": "B6DYzl32txKU"
      },
      "source": [
        "for vocab, bitcode in trie.bitarray_dict.items():\n",
        "  bitarrayTrie.insert(bitcode,vocab)"
      ],
      "execution_count": null,
      "outputs": []
    },
    {
      "cell_type": "code",
      "metadata": {
        "colab": {
          "base_uri": "https://localhost:8080/"
        },
        "id": "MU3BXC7Sxftp",
        "outputId": "94d7ca78-9b45-4302-b8ce-c204e77d1acf"
      },
      "source": [
        "sys.getsizeof(trie.bitarray_dict), sys.getsizeof(encoded_array)"
      ],
      "execution_count": null,
      "outputs": [
        {
          "output_type": "execute_result",
          "data": {
            "text/plain": [
              "(36976, 349530)"
            ]
          },
          "metadata": {
            "tags": []
          },
          "execution_count": 50
        }
      ]
    },
    {
      "cell_type": "code",
      "metadata": {
        "id": "PJ_Pn4fbxonV"
      },
      "source": [
        "def decoder(bitsequence, bitarray_vocab_node):\n",
        "  decoded_str = \"\"\n",
        "  node = bitarray_vocab_node\n",
        "  for i,bit in enumerate(bitsequence):\n",
        "    # print(int(bit), end=\"\")\n",
        "    if int(bit) in node.child:\n",
        "      node = node.child[int(bit)]\n",
        "      if node.is_end:\n",
        "        # print(node.vocab, end=\"\")\n",
        "        decoded_str +=node.vocab\n",
        "        node = bitarray_vocab_node\n",
        "  return decoded_str\n",
        "# Example run:\n",
        "# test_str = decoder(bit_array1, bitarrayTrie.root)\n",
        "# test_str"
      ],
      "execution_count": null,
      "outputs": []
    },
    {
      "cell_type": "code",
      "metadata": {
        "id": "FzGdKDfmWEM1"
      },
      "source": [
        "decoded_str = decoder(encoded_array, bitarrayTrie.root)"
      ],
      "execution_count": null,
      "outputs": []
    },
    {
      "cell_type": "code",
      "metadata": {
        "colab": {
          "base_uri": "https://localhost:8080/"
        },
        "id": "EXsLcKNX1Owu",
        "outputId": "101ae4dd-d01b-421c-879d-c032a1583365"
      },
      "source": [
        "len(text), len(decoded_str)"
      ],
      "execution_count": null,
      "outputs": [
        {
          "output_type": "execute_result",
          "data": {
            "text/plain": [
              "(887071, 887071)"
            ]
          },
          "metadata": {
            "tags": []
          },
          "execution_count": 53
        }
      ]
    },
    {
      "cell_type": "code",
      "metadata": {
        "colab": {
          "base_uri": "https://localhost:8080/",
          "height": 35
        },
        "id": "bmx-Tqlp2pFA",
        "outputId": "23148cca-73f7-4e10-8bb1-ddfb1bf305e6"
      },
      "source": [
        "decoded_str[:100]"
      ],
      "execution_count": null,
      "outputs": [
        {
          "output_type": "execute_result",
          "data": {
            "application/vnd.google.colaboratory.intrinsic+json": {
              "type": "string"
            },
            "text/plain": [
              "'[Emma by Jane Austen 1816]\\n\\nVOLUME I\\n\\nCHAPTER I\\n\\n\\nEmma Woodhouse, handsome, clever, and rich, with a'"
            ]
          },
          "metadata": {
            "tags": []
          },
          "execution_count": 54
        }
      ]
    },
    {
      "cell_type": "code",
      "metadata": {
        "colab": {
          "base_uri": "https://localhost:8080/"
        },
        "id": "6SnDTtBUdilM",
        "outputId": "5bd1638e-ac6c-4e1b-a367-effb80ab6a79"
      },
      "source": [
        "text == decoded_str"
      ],
      "execution_count": null,
      "outputs": [
        {
          "output_type": "execute_result",
          "data": {
            "text/plain": [
              "True"
            ]
          },
          "metadata": {
            "tags": []
          },
          "execution_count": 55
        }
      ]
    },
    {
      "cell_type": "markdown",
      "metadata": {
        "id": "h5QcxBNYWw0Y"
      },
      "source": [
        "Checking the size of the compression"
      ]
    },
    {
      "cell_type": "code",
      "metadata": {
        "colab": {
          "base_uri": "https://localhost:8080/"
        },
        "id": "U1wAimrTWzCT",
        "outputId": "c27e104d-cc7b-4dc5-d2bf-8b8f5d98cce6"
      },
      "source": [
        "print(f'Original size {sys.getsizeof(text)} , compressed size {sys.getsizeof(encoded_array) + sys.getsizeof(trie.bitarray_dict)}')"
      ],
      "execution_count": null,
      "outputs": [
        {
          "output_type": "stream",
          "text": [
            "Original size 887120 , compressed size 386506\n"
          ],
          "name": "stdout"
        }
      ]
    },
    {
      "cell_type": "markdown",
      "metadata": {
        "id": "qlRaS7r3ljug"
      },
      "source": [
        "**Create pickle file:**"
      ]
    },
    {
      "cell_type": "code",
      "metadata": {
        "id": "3XZWuX1Yzfzz"
      },
      "source": [
        "with open('compressed.pkl', 'wb') as f:\n",
        "    pickle.dump([encoded_array, trie.bitarray_dict], f, protocol=None)\n",
        "with open('compressed_dictionary.pkl', 'wb') as f_1:\n",
        "    pickle.dump(trie.bitarray_dict, f_1, protocol=None)\n",
        "with open('compressed_array.pkl', 'wb') as f_2:\n",
        "    pickle.dump(encoded_array, f_2, protocol=None)"
      ],
      "execution_count": null,
      "outputs": []
    },
    {
      "cell_type": "code",
      "metadata": {
        "colab": {
          "base_uri": "https://localhost:8080/"
        },
        "id": "ckuIYCtk7_H7",
        "outputId": "a890b742-da69-4af4-dd2e-9c6fa7d3076f"
      },
      "source": [
        "!du -sb compressed.pkl\n",
        "!du -sb compressed_dictionary.pkl\n",
        "!du -sb compressed_array.pkl"
      ],
      "execution_count": null,
      "outputs": [
        {
          "output_type": "stream",
          "text": [
            "376450\tcompressed.pkl\n",
            "59446\tcompressed_dictionary.pkl\n",
            "317006\tcompressed_array.pkl\n"
          ],
          "name": "stdout"
        }
      ]
    },
    {
      "cell_type": "code",
      "metadata": {
        "id": "p9StE9wLmmI2"
      },
      "source": [
        "with open('original1.pkl', 'wb') as f2:\n",
        "    pickle.dump(text, f2, protocol=None)"
      ],
      "execution_count": null,
      "outputs": []
    },
    {
      "cell_type": "code",
      "metadata": {
        "colab": {
          "base_uri": "https://localhost:8080/"
        },
        "id": "ASYrbBoIYpNU",
        "outputId": "c4acbef1-1cc5-40aa-e516-8c1516420e77"
      },
      "source": [
        "!du -sb original1.pkl"
      ],
      "execution_count": null,
      "outputs": [
        {
          "output_type": "stream",
          "text": [
            "41460\toriginal1.pkl\n"
          ],
          "name": "stdout"
        }
      ]
    },
    {
      "cell_type": "code",
      "metadata": {
        "id": "Ez1S8IyFm99h"
      },
      "source": [
        "with open('compressed.pkl', 'rb',) as f3:\n",
        "     obj0, obj1  = pickle.load(f3)"
      ],
      "execution_count": null,
      "outputs": []
    },
    {
      "cell_type": "code",
      "metadata": {
        "colab": {
          "base_uri": "https://localhost:8080/",
          "height": 69
        },
        "id": "FFd6ll8VnHpf",
        "outputId": "d1f0773b-6a7a-4467-9928-d4aecc20c14e"
      },
      "source": [
        "bitarrayTrie2 = BitArrayTrie()\n",
        "for vocab, bitcode in obj1.items():\n",
        "  bitarrayTrie2.insert(bitcode,vocab)\n",
        "decoded_text = decoder(obj0, bitarrayTrie2.root)\n",
        "decoded_text[:500]"
      ],
      "execution_count": null,
      "outputs": [
        {
          "output_type": "execute_result",
          "data": {
            "application/vnd.google.colaboratory.intrinsic+json": {
              "type": "string"
            },
            "text/plain": [
              "\"[Emma by Jane Austen 1816]\\n\\nVOLUME I\\n\\nCHAPTER I\\n\\n\\nEmma Woodhouse, handsome, clever, and rich, with a comfortable home\\nand happy disposition, seemed to unite some of the best blessings\\nof existence; and had lived nearly twenty-one years in the world\\nwith very little to distress or vex her.\\n\\nShe was the youngest of the two daughters of a most affectionate,\\nindulgent father; and had, in consequence of her sister's marriage,\\nbeen mistress of his house from a very early period.  Her mother\\nhad died t\""
            ]
          },
          "metadata": {
            "tags": []
          },
          "execution_count": 219
        }
      ]
    },
    {
      "cell_type": "code",
      "metadata": {
        "colab": {
          "base_uri": "https://localhost:8080/"
        },
        "id": "P4JK4LMDEvNo",
        "outputId": "6d0c4908-1b94-4a09-c531-6d0015ebb12c"
      },
      "source": [
        "decoded_text ==text"
      ],
      "execution_count": null,
      "outputs": [
        {
          "output_type": "execute_result",
          "data": {
            "text/plain": [
              "True"
            ]
          },
          "metadata": {
            "tags": []
          },
          "execution_count": 220
        }
      ]
    },
    {
      "cell_type": "markdown",
      "metadata": {
        "id": "9FkEMWFdicA5"
      },
      "source": [
        "**Check size of pickle dictionary size**"
      ]
    },
    {
      "cell_type": "code",
      "metadata": {
        "id": "fSptZRIaCKLg"
      },
      "source": [
        "import pandas as pd"
      ],
      "execution_count": null,
      "outputs": []
    },
    {
      "cell_type": "code",
      "metadata": {
        "id": "NrkZ2TBARp6Y"
      },
      "source": [
        "test_dictionary = {}\n",
        "number_of_text = 0\n",
        "number_of_byte_in_bitarray = 0\n",
        "\n",
        "num_of_key = []\n",
        "num_of_bit_array = []\n",
        "size_of_dict = []\n",
        "file_size_array = []\n",
        "count = 0\n",
        "dict_key = []\n",
        "dict_val = []\n",
        "\n",
        "for key in trie.bitarray_dict:\n",
        "  test_dictionary[key] = trie.bitarray_dict[key]\n",
        "  number_of_text += len(key)\n",
        "  number_of_byte_in_bitarray += 1 + len(trie.bitarray_dict[key])//8\n",
        "  count +=1\n",
        "  with open('test_pkl3.pkl','wb') as f:\n",
        "    pickle.dump(test_dictionary,f, protocol=None)\n",
        "  !du -sb test_pkl3.pkl > result.txt\n",
        "  with open('result.txt', 'r') as f3:\n",
        "    text = f3.read()\n",
        "  file_size = text.split('\\t')[0]  \n",
        "  print(file_size)\n",
        "\n",
        "  num_of_key.append(len(key))\n",
        "  num_of_bit_array.append(1 + len(trie.bitarray_dict[key])//8)\n",
        "  size_of_dict.append(count)\n",
        "  file_size_array.append(file_size)\n",
        "  dict_key.append(key)\n",
        "  dict_val.append(str(test_dictionary[key]))\n",
        "\n",
        "\n",
        "data = {'num_of_key':num_of_key,\n",
        "        'num_of_bit_array':num_of_bit_array,\n",
        "        'size_of_dict':size_of_dict,\n",
        "        'file_size_array':file_size_array,\n",
        "        'dict_key':dict_key,\n",
        "        'dict_val':dict_val\n",
        "        }\n",
        "df = pd.DataFrame(data,columns=['num_of_key',  'num_of_bit_array',  'size_of_dict','file_size_array','dict_key','dict_val'])\n",
        "df.to_csv('myDataFrame.csv')"
      ],
      "execution_count": null,
      "outputs": []
    },
    {
      "cell_type": "code",
      "metadata": {
        "colab": {
          "base_uri": "https://localhost:8080/",
          "height": 664
        },
        "id": "wR1c7wn_5uIB",
        "outputId": "6da4788e-129c-4bdb-c701-461beee389f3"
      },
      "source": [
        "fig=plt.figure(figsize=(20,8), dpi= 100, facecolor='w', edgecolor='k')\n",
        "plt.plot(data['size_of_dict'][:50],data['file_size_array'][:50],color='r', label='line 1')\n",
        "# plt.plot(data['size_of_dict'][:50],y_[:50], color='b',label='line 2')\n",
        "plt.show()"
      ],
      "execution_count": null,
      "outputs": [
        {
          "output_type": "display_data",
          "data": {
            "image/png": "[encoded data removed]",
            "text/plain": [
              "<Figure size 2000x800 with 1 Axes>"
            ]
          },
          "metadata": {
            "tags": []
          }
        }
      ]
    },
    {
      "cell_type": "code",
      "metadata": {
        "colab": {
          "base_uri": "https://localhost:8080/"
        },
        "id": "YHQAbulaHyUD",
        "outputId": "57676779-1d00-482e-d2ae-57a4ae499bd3"
      },
      "source": [
        "from sklearn.linear_model import LinearRegression\n",
        "X = np.array(data['size_of_dict']).reshape(-1,1)\n",
        "y = np.array(data['file_size_array']).astype('int')\n",
        "\n",
        "reg = LinearRegression().fit(X, y)\n",
        "print(f'Score {reg.score(X, y)}')\n",
        "print(f'Coff: {reg.coef_} + intercept {reg.intercept_}')"
      ],
      "execution_count": null,
      "outputs": [
        {
          "output_type": "stream",
          "text": [
            "Score 0.9999968754404466\n",
            "Coff: [53.62849515] + intercept -895.7286103110382\n"
          ],
          "name": "stdout"
        }
      ]
    },
    {
      "cell_type": "code",
      "metadata": {
        "id": "eKGskkyIJgx8"
      },
      "source": [
        "x_ = []\n",
        "y_ = []\n",
        "for i in data['size_of_dict']:\n",
        "  x_.append(i)\n",
        "  y_.append(i*53.6 -895.7)\n",
        "y_[:100]\n"
      ],
      "execution_count": null,
      "outputs": []
    },
    {
      "cell_type": "code",
      "metadata": {
        "colab": {
          "base_uri": "https://localhost:8080/"
        },
        "id": "w54vU1Nx6ESb",
        "outputId": "2b1e164d-24f8-4c2f-9ec7-440408f3a8d9"
      },
      "source": [
        "number_of_text = 0\n",
        "number_of_byte_in_bitarray = 0\n",
        "for key in trie.bitarray_dict:\n",
        "    number_of_text += len(key)\n",
        "    number_of_byte_in_bitarray += 1 + len(trie.bitarray_dict[key])//8\n",
        "print(f'Number of text {number_of_text} and number of bytes {number_of_byte_in_bitarray}')"
      ],
      "execution_count": null,
      "outputs": [
        {
          "output_type": "stream",
          "text": [
            "Number of text 25479 and number of bytes 8691\n"
          ],
          "name": "stdout"
        }
      ]
    },
    {
      "cell_type": "markdown",
      "metadata": {
        "id": "bkMQWV4oOPHS"
      },
      "source": [
        "**KL divergence between 2 texts:**"
      ]
    },
    {
      "cell_type": "code",
      "metadata": {
        "id": "_AEp8BeUA4tD"
      },
      "source": [
        "trie_1 = Trie()\n",
        "\n",
        "voc_count_1 = Counter(text_1)\n",
        "voc_dl_1 = dict()   \n",
        "\n",
        "for key in voc_count_1:\n",
        "    voc_dl_1[key] = -math.log(voc_count_1[key]/len(text_1),2)\n",
        "\n",
        "for key in voc_dl_1:\n",
        "    trie_1.insert(key, voc_dl_1[key])\n",
        "\n",
        "%prun min_seg_full_text_1, back_pointers_full_text_1, segmentation_list_full_text_1, sum_MDL_1, trie_code_length_1, vocab_dict_len_1, encoded_array_1, total_size_1 = find_MDL(text_1, trie_1, number_of_loop = 1, number_of_batches = 4)"
      ],
      "execution_count": null,
      "outputs": []
    },
    {
      "cell_type": "code",
      "metadata": {
        "id": "ZcE6eiKzA1dE"
      },
      "source": [
        "trie_2 = Trie()\n",
        "\n",
        "voc_count_2 = Counter(text_2)\n",
        "voc_dl_2 = dict()   \n",
        "\n",
        "for key in voc_count_2:\n",
        "    voc_dl_2[key] = -math.log(voc_count_2[key]/len(text_2),2)\n",
        "\n",
        "for key in voc_dl_2:\n",
        "    trie_2.insert(key, voc_dl_2[key])\n",
        "\n",
        "%prun min_seg_full_text_2, back_pointers_full_text_2, segmentation_list_full_text_2, sum_MDL_2, trie_code_length_2, vocab_dict_len_2, encoded_array_2, total_size_2 = find_MDL(text_2, trie_2, number_of_loop = 1, number_of_batches = 4)"
      ],
      "execution_count": null,
      "outputs": []
    },
    {
      "cell_type": "markdown",
      "metadata": {
        "id": "IgynBuBqitxQ"
      },
      "source": [
        "**KL divergence**"
      ]
    },
    {
      "cell_type": "code",
      "metadata": {
        "colab": {
          "base_uri": "https://localhost:8080/"
        },
        "id": "mT2VfTHuOi61",
        "outputId": "9082291f-2b61-4948-a161-892d4e0e9d72"
      },
      "source": [
        "def kl_div(p, q):\n",
        "\t  return np.sum(p*np.log2(p/q))\n",
        " \n",
        "def KL_divergence(vocab_1, vocab_2):\n",
        "    p_array = np.array\n",
        "    set_vocab_1 = set(vocab_1.vocab_dict_address)\n",
        "    set_vocab_2 = set(vocab_2.vocab_dict_address)\n",
        "\n",
        "    print(len(set_vocab_1))\n",
        "    print(len(set_vocab_2))\n",
        "    union_set_vocabs = set_vocab_1.union(set_vocab_2)\n",
        "    p_array = np.zeros((len(union_set_vocabs)))\n",
        "    q_array = np.zeros((len(union_set_vocabs)))\n",
        "    print(f'len of union {len(union_set_vocabs)}')\n",
        "    print(f'overlap {len(set_vocab_1.intersection(set_vocab_2))}')\n",
        "\n",
        "    for i, elem in enumerate(union_set_vocabs):\n",
        "        try:\n",
        "            p = (vocab_1.vocab_dict_address[elem].count_all_text + 0.5)/ (vocab_1.general_count + 1)\n",
        "            if p == 0 :\n",
        "                p = 0.5/ (vocab_1.general_count + 1)\n",
        "        except:\n",
        "            p = 0.5/ (vocab_1.general_count + 1)\n",
        "\n",
        "        try:\n",
        "            q = (vocab_2.vocab_dict_address[elem].count_all_text+0.5)/ (vocab_2.general_count + 1)\n",
        "            if q == 0 :\n",
        "                q = 0.5 / (vocab_2.general_count + 1)\n",
        "        except:\n",
        "            q = 0.5 / (vocab_2.general_count + 1)\n",
        "\n",
        "        p_array[i] = p\n",
        "        q_array[i] = q\n",
        "\n",
        "    return kl_div(p_array, q_array), p_array, q_array\n",
        "result, p_array, q_array = KL_divergence(trie_1, trie_2)"
      ],
      "execution_count": null,
      "outputs": [
        {
          "output_type": "stream",
          "text": [
            "814\n",
            "731\n",
            "len of union 1035\n",
            "overlap 510\n"
          ],
          "name": "stdout"
        }
      ]
    },
    {
      "cell_type": "code",
      "metadata": {
        "colab": {
          "base_uri": "https://localhost:8080/"
        },
        "id": "LU92U0ZSVdoT",
        "outputId": "411557a9-8098-40e6-cbb9-15d1b8bf2ff1"
      },
      "source": [
        "result"
      ],
      "execution_count": null,
      "outputs": [
        {
          "output_type": "execute_result",
          "data": {
            "text/plain": [
              "1.3394606620531482"
            ]
          },
          "metadata": {
            "tags": []
          },
          "execution_count": 252
        }
      ]
    },
    {
      "cell_type": "code",
      "metadata": {
        "colab": {
          "base_uri": "https://localhost:8080/"
        },
        "id": "bslQGYjxTzdV",
        "outputId": "c4e22ef7-7d95-41e8-a349-43ee861f50cc"
      },
      "source": [
        "test_count = Counter(text_1)\n",
        "test_count['q']"
      ],
      "execution_count": null,
      "outputs": [
        {
          "output_type": "execute_result",
          "data": {
            "text/plain": [
              "895"
            ]
          },
          "metadata": {
            "tags": []
          },
          "execution_count": 223
        }
      ]
    },
    {
      "cell_type": "code",
      "metadata": {
        "id": "Kz9c04pJUt6z"
      },
      "source": [
        "def chunk_string(s, n):\n",
        "    return [s[i:i+n] for i in range(len(s)-n+1)]"
      ],
      "execution_count": null,
      "outputs": []
    },
    {
      "cell_type": "code",
      "metadata": {
        "id": "wzpbMKhkUxx4"
      },
      "source": [
        "test_count_2 = Counter(chunk_string(text, 2))"
      ],
      "execution_count": null,
      "outputs": []
    },
    {
      "cell_type": "code",
      "metadata": {
        "colab": {
          "base_uri": "https://localhost:8080/"
        },
        "id": "gOB1SXA_U39M",
        "outputId": "1fd85228-a2fe-45e8-ace1-1380e3c6965a"
      },
      "source": [
        "test_count_2['qu']"
      ],
      "execution_count": null,
      "outputs": [
        {
          "output_type": "execute_result",
          "data": {
            "text/plain": [
              "895"
            ]
          },
          "metadata": {
            "tags": []
          },
          "execution_count": 228
        }
      ]
    },
    {
      "cell_type": "code",
      "metadata": {
        "id": "KLpn_BieVo3m"
      },
      "source": [
        "#Test example\n",
        "trie_test_1 = Trie()\n",
        "trie_test_1.insert('a', 3.5)\n",
        "trie_test_1.vocab_dict_address['a'].count_all_text = 100\n",
        "trie_test_1.insert('b', 3.2)\n",
        "trie_test_1.vocab_dict_address['b'].count_all_text = 50\n",
        "trie_test_1.insert('c', 3.1)\n",
        "trie_test_1.vocab_dict_address['c'].count_all_text = 50\n",
        "trie_test_1.general_count = 200\n",
        "\n",
        "trie_test_2 = Trie()\n",
        "trie_test_2.insert('a', 3.5)\n",
        "trie_test_2.vocab_dict_address['a'].count_all_text = 100\n",
        "trie_test_2.insert('b', 3.6)\n",
        "trie_test_2.vocab_dict_address['b'].count_all_text = 100\n",
        "trie_test_2.insert('c', 3.7)\n",
        "trie_test_2.vocab_dict_address['c'].count_all_text = 100\n",
        "trie_test_2.general_count = 300"
      ],
      "execution_count": null,
      "outputs": []
    },
    {
      "cell_type": "code",
      "metadata": {
        "colab": {
          "base_uri": "https://localhost:8080/"
        },
        "id": "gus4A6inRmgp",
        "outputId": "069773b4-8ef4-4443-8875-3dba3c74d452"
      },
      "source": [
        "result, p_array, q_array = KL_divergence(trie_test_1, trie_test_2)\n",
        "result"
      ],
      "execution_count": null,
      "outputs": [
        {
          "output_type": "stream",
          "text": [
            "3\n",
            "3\n",
            "len of union 3\n",
            "overlap {'b', 'a', 'c'}\n"
          ],
          "name": "stdout"
        },
        {
          "output_type": "execute_result",
          "data": {
            "text/plain": [
              "0.08496250072115619"
            ]
          },
          "metadata": {
            "tags": []
          },
          "execution_count": 237
        }
      ]
    },
    {
      "cell_type": "code",
      "metadata": {
        "colab": {
          "base_uri": "https://localhost:8080/"
        },
        "id": "5QiFLiyDV-CD",
        "outputId": "430e6b1c-e2fa-4fc8-afed-7b661b380122"
      },
      "source": [
        "result, p_array, q_array = KL_divergence(trie_test_2, trie_test_1)\n",
        "result"
      ],
      "execution_count": null,
      "outputs": [
        {
          "output_type": "stream",
          "text": [
            "3\n",
            "3\n",
            "len of union 3\n",
            "overlap {'b', 'a', 'c'}\n"
          ],
          "name": "stdout"
        },
        {
          "output_type": "execute_result",
          "data": {
            "text/plain": [
              "0.08170416594551039"
            ]
          },
          "metadata": {
            "tags": []
          },
          "execution_count": 238
        }
      ]
    }
  ]
}